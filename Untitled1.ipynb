{
  "nbformat": 4,
  "nbformat_minor": 0,
  "metadata": {
    "colab": {
      "name": "Untitled1.ipynb",
      "provenance": [],
      "collapsed_sections": [],
      "include_colab_link": true
    },
    "kernelspec": {
      "name": "python3",
      "display_name": "Python 3"
    },
    "accelerator": "GPU"
  },
  "cells": [
    {
      "cell_type": "markdown",
      "metadata": {
        "id": "view-in-github",
        "colab_type": "text"
      },
      "source": [
        "<a href=\"https://colab.research.google.com/github/ymourilab/mouri/blob/master/Untitled1.ipynb\" target=\"_parent\"><img src=\"https://colab.research.google.com/assets/colab-badge.svg\" alt=\"Open In Colab\"/></a>"
      ]
    },
    {
      "cell_type": "code",
      "metadata": {
        "id": "Vx0XjR2V5oQa",
        "colab_type": "code",
        "outputId": "1f4dffc0-35d9-42ba-a7fa-4325159178ea",
        "colab": {
          "base_uri": "https://localhost:8080/",
          "height": 292
        }
      },
      "source": [
        "!git clone https://github.com/fbcotter/pytorch_wavelets\n",
        "!pip install ./pytorch_wavelets/."
      ],
      "execution_count": 1,
      "outputs": [
        {
          "output_type": "stream",
          "text": [
            "fatal: destination path 'pytorch_wavelets' already exists and is not an empty directory.\n",
            "Processing ./pytorch_wavelets\n",
            "Requirement already satisfied: numpy in /usr/local/lib/python3.6/dist-packages (from pytorch-wavelets==1.1.0) (1.17.4)\n",
            "Requirement already satisfied: six in /usr/local/lib/python3.6/dist-packages (from pytorch-wavelets==1.1.0) (1.12.0)\n",
            "Requirement already satisfied: torch in /usr/local/lib/python3.6/dist-packages (from pytorch-wavelets==1.1.0) (1.3.1)\n",
            "Building wheels for collected packages: pytorch-wavelets\n",
            "  Building wheel for pytorch-wavelets (setup.py) ... \u001b[?25l\u001b[?25hdone\n",
            "  Created wheel for pytorch-wavelets: filename=pytorch_wavelets-1.1.0-cp36-none-any.whl size=46100 sha256=e7fc6c3e2e031cf00a9bada727c4b3726bdf5f26163f74b8091879c5cb9b794e\n",
            "  Stored in directory: /tmp/pip-ephem-wheel-cache-5y_1qosc/wheels/82/e1/5b/16a4e6ccfc0bb2ce14bd2796adb13e6e9b718cb7d2e1ae3643\n",
            "Successfully built pytorch-wavelets\n",
            "Installing collected packages: pytorch-wavelets\n",
            "  Found existing installation: pytorch-wavelets 1.1.0\n",
            "    Uninstalling pytorch-wavelets-1.1.0:\n",
            "      Successfully uninstalled pytorch-wavelets-1.1.0\n",
            "Successfully installed pytorch-wavelets-1.1.0\n"
          ],
          "name": "stdout"
        }
      ]
    },
    {
      "cell_type": "code",
      "metadata": {
        "id": "raA6CcvL519a",
        "colab_type": "code",
        "outputId": "3dc8747a-fe19-4c25-e577-b32c8ea39bf1",
        "colab": {
          "base_uri": "https://localhost:8080/",
          "height": 275
        }
      },
      "source": [
        "!git clone https://github.com/zh217/torch-dct\n",
        "!pip install ./torch-dct/."
      ],
      "execution_count": 2,
      "outputs": [
        {
          "output_type": "stream",
          "text": [
            "fatal: destination path 'torch-dct' already exists and is not an empty directory.\n",
            "Processing ./torch-dct\n",
            "Requirement already satisfied: torch>=0.4.1 in /usr/local/lib/python3.6/dist-packages (from torch-dct==0.1.5) (1.3.1)\n",
            "Requirement already satisfied: numpy in /usr/local/lib/python3.6/dist-packages (from torch>=0.4.1->torch-dct==0.1.5) (1.17.4)\n",
            "Building wheels for collected packages: torch-dct\n",
            "  Building wheel for torch-dct (setup.py) ... \u001b[?25l\u001b[?25hdone\n",
            "  Created wheel for torch-dct: filename=torch_dct-0.1.5-cp36-none-any.whl size=4997 sha256=87336709130363510c749840c79bb3ee5b232660134ef0d6adf6e64ae4e73a3e\n",
            "  Stored in directory: /root/.cache/pip/wheels/54/af/7d/bfc942607a03ab314a2c757dae2f27d25d9698e9ed106890ed\n",
            "Successfully built torch-dct\n",
            "Installing collected packages: torch-dct\n",
            "  Found existing installation: torch-dct 0.1.5\n",
            "    Uninstalling torch-dct-0.1.5:\n",
            "      Successfully uninstalled torch-dct-0.1.5\n",
            "Successfully installed torch-dct-0.1.5\n"
          ],
          "name": "stdout"
        }
      ]
    },
    {
      "cell_type": "code",
      "metadata": {
        "id": "Qa-sLz0rkOyG",
        "colab_type": "code",
        "colab": {}
      },
      "source": [
        "#!git clone https://github.com/tsakailab/spmlib\n",
        "#!pip install ./spmlib/."
      ],
      "execution_count": 0,
      "outputs": []
    },
    {
      "cell_type": "code",
      "metadata": {
        "id": "due82XR-a5mP",
        "colab_type": "code",
        "outputId": "c2bdffef-891e-4ada-9510-e0da28f89c68",
        "colab": {
          "base_uri": "https://localhost:8080/",
          "height": 68
        }
      },
      "source": [
        "import torch\n",
        "torch.set_default_tensor_type(torch.cuda.FloatTensor)\n",
        "print(torch.__version__)\n",
        "print(torch.cuda.is_available())\n",
        "device = torch.device(\"cuda\" if torch.cuda.is_available() else \"cpu\")\n",
        "print(device)"
      ],
      "execution_count": 4,
      "outputs": [
        {
          "output_type": "stream",
          "text": [
            "1.3.1\n",
            "True\n",
            "cuda\n"
          ],
          "name": "stdout"
        }
      ]
    },
    {
      "cell_type": "code",
      "metadata": {
        "id": "9VTbHAYpOJV1",
        "colab_type": "code",
        "outputId": "0fe74aa6-5d3c-45da-f37e-f3f55cbb8f8c",
        "colab": {
          "base_uri": "https://localhost:8080/",
          "height": 54
        }
      },
      "source": [
        "import torch_dct as tdct\n",
        "from pytorch_wavelets import DWTForward, DWTInverse\n",
        "import torch\n",
        "\n",
        "class uISTA(torch.nn.Module):\n",
        "\n",
        "    def __init__(self, num_unroll, l=2., scale=1., prox=None, wt=None, iwt=None):\n",
        "        super(uISTA, self).__init__()\n",
        "        self.num_unroll = num_unroll #unroll回数\n",
        "        #self.A = torch.nn.Parameter(torch.FloatTensor(A), requires_grad=True)#fhみたいなのに変更する\n",
        "        self.l = torch.nn.Parameter(torch.FloatTensor([l]), requires_grad=True)#なんか配列作ってる多分なんかの計算用theta\n",
        "        self.scale = scale#thetaの計算に使ってる\n",
        "        print(device)\n",
        "        if prox is None:\n",
        "            #self.prox = lambda z, th: torch.max((z.sign() * (z.abs_() - th)),torch.tensor([0]).float())\n",
        "            self.prox = lambda z, th: z.sign() * (z.abs_() - th).max(torch.tensor(0, device=device).float())\n",
        "            #zの値を0か負(=-1)か正(=1)か判定したやつとsoft閾値処理したやつの乗算\n",
        "        else:\n",
        "            self.prox = prox\n",
        "\n",
        "        if wt is None:\n",
        "            self.wt = DWTForward(J=3,wave='db10',mode='zero')\n",
        "        else:\n",
        "            self.wt = wt\n",
        "\n",
        "        if iwt is None:\n",
        "            self.iwt = DWTInverse(wave='db10', mode='zero')\n",
        "        else:\n",
        "            self.iwt = iwt\n",
        "\n",
        "    def forward(self, b):\n",
        "        theta = torch.mul(self.l, self.scale)#lの要素をscale倍するらしい\n",
        "        # prox(A.dot(b*scale), theta) for initial guess of x xの初期値を決めるよ\n",
        "        #x = self.prox(b.mul(self.scale).matmul(self.A), theta)    #matmulをidctにidwtに\n",
        "        x = self.prox(self.tidct(b.mul_(self.scale)), theta)\n",
        "        print(x[0])\n",
        "        plt.plot(torch.arange(0,len(x[0])).cpu(),x[0].cpu().detach().numpy())\n",
        "        print(1111111)\n",
        "        #coeffs = self.dwt(b.reshape(1,1,1,-1))\n",
        "        #w = self.w_softshrink(self.idwt(self.idwt(self.dwt(b.reshape(1,1,1,-1)))), theta)\n",
        "        #w = torch.zeros(1,1,1,len(b[0]))\n",
        "        w = b.reshape(b.size()[0],1,1,-1)\n",
        "        #print(x.size(),w.size())\n",
        "        for i in range(self.num_unroll):\n",
        "            #x = prox(x+A.T.dot(b-A.dot(x))*scale, theta) ISTAの繰り返し部分\n",
        "            #x = soft(x + AT(b - Ax))scale\n",
        "            #x = self.prox(x + (b - x.matmul(self.A.t())).mul_(self.scale).matmul(self.A), theta)\n",
        "            #x = self.prox(x + r.mul_(self.scale).matmul(self.A), theta)  r = b-Ax\n",
        "            #x = self.prox(x + At(r*scale), theta)\n",
        "            #matmul A.t をdct,dwtに matmul Aをidct,idwtに\n",
        "            #x = self.prox(x + (b - self.tidct(self.tdct(x).mul_(self.scale))), theta)\n",
        "            x = self.prox(x + (b - self.tidct(self.tdct(x).mul_(self.scale))), theta)\n",
        "            print(i)\n",
        "            #w = self.w_softshrink(w + (b.reshape(-1,1,1,b.size()[0]) - self.idwt(dwt(w).mul_(self.scale))), theta)\n",
        "            print('after f')\n",
        "            w = self.prox(w + (b.reshape(b.size()[0],1,1,-1) - self.idwt((self.dwt(w)[0].mul_(self.scale),[i.mul_(self.scale)for i in self.dwt(w)[1]]))), theta) \n",
        "            print(\"koeta\")\n",
        "        return x,w\n",
        "\n",
        "    #関数AとATのかわり\n",
        "    def tdct(self,x):\n",
        "        return tdct.dct(x)\n",
        "    \n",
        "    def tidct(self,x):\n",
        "        return tdct.idct(x)\n",
        "\n",
        "    def dwt(self,x):\n",
        "        return self.wt(x)\n",
        "\n",
        "    def idwt(self,x):\n",
        "        return self.iwt((x[0],x[1]))\n",
        "\n",
        "#   こいつはダメ\n",
        "#    def w_softshrink(self,z,th):\n",
        "#        return [self.prox(x,th) for x in z]\n",
        "\"\"\"\n",
        "    #%% sign function compatible with complex values\n",
        "    def sgn(z):\n",
        "        return torch.div(z, z.abs())\n",
        "\n",
        "    #%% soft thresholding function compatible with complex values\n",
        "    def f_softshrink(z, th):\n",
        "        return sgn(z) * torch.max(z.abs() - th, torch.tensor([0]).float())\n",
        "        \"\"\""
      ],
      "execution_count": 5,
      "outputs": [
        {
          "output_type": "execute_result",
          "data": {
            "text/plain": [
              "'\\n    #%% sign function compatible with complex values\\n    def sgn(z):\\n        return torch.div(z, z.abs())\\n\\n    #%% soft thresholding function compatible with complex values\\n    def f_softshrink(z, th):\\n        return sgn(z) * torch.max(z.abs() - th, torch.tensor([0]).float())\\n        '"
            ]
          },
          "metadata": {
            "tags": []
          },
          "execution_count": 5
        }
      ]
    },
    {
      "cell_type": "code",
      "metadata": {
        "id": "Wv4UEoWi0HO9",
        "colab_type": "code",
        "colab": {}
      },
      "source": [
        "softm = lambda z, th: z.sign() * torch.max(z.abs() - th, torch.tensor([0]).float())"
      ],
      "execution_count": 0,
      "outputs": []
    },
    {
      "cell_type": "code",
      "metadata": {
        "id": "JPHcnbTXwGyP",
        "colab_type": "code",
        "colab": {}
      },
      "source": [
        "def sgn(z):\n",
        "    return torch.div(z, z.abs())\n",
        "\n",
        "#%% soft thresholding function compatible with complex values\n",
        "def f_softshrink(z, th):\n",
        "    return sgn(z) * torch.max(z.abs() - th, torch.tensor([0]).float())"
      ],
      "execution_count": 0,
      "outputs": []
    },
    {
      "cell_type": "code",
      "metadata": {
        "id": "GdY985eXxABI",
        "colab_type": "code",
        "outputId": "f7a0a9b1-0566-486d-8b4d-5393fcdc43ef",
        "colab": {
          "base_uri": "https://localhost:8080/",
          "height": 51
        }
      },
      "source": [
        "import torch\n",
        "import numpy as np\n",
        "import math\n",
        "import matplotlib.pyplot as plt\n",
        "from time import time\n",
        "\n",
        "rng = np.random.RandomState(int(time()))\n",
        "\n",
        "n_samples = 50\n",
        "#m, n = 512, 2048\n",
        "m, n = 256,1024\n",
        "#m, n = 2000, 4000\n",
        "\n",
        "# generate k-sparse Gaussian signal vectors\n",
        "k = 50\n",
        "stdx = 1.\n",
        "snr = 10.\n",
        "support_range = np.arange(0, n)\n",
        "data = torch.arange(0, 10, 0.0005)\n",
        "print(data.size())\n",
        "frequency = torch.arange(0.02,2,0.02)\n",
        "g = torch.rand(frequency.size()[0])\n",
        "y = torch.zeros((n_samples,data.size()[0]))\n",
        "\n",
        "input_data = torch.zeros((n_samples, data.size()[0]))\n",
        "print(input_data.size()[1])\n",
        "true = torch.zeros((n_samples, data.size()[0]))\n",
        "output_data = torch.zeros((n_samples, n))\n",
        "G = rng.choice(19800,500,replace=False)\n",
        "for sample in range(n_samples) :\n",
        "    T = rng.choice(frequency.size()[0], 20, replace=False)\n",
        "\n",
        "    for i in range(0,20):\n",
        "        y[sample] = y[sample] + g[T[i]] * torch.cos(2 * math.pi * (1. /frequency[T[i]]) * data) \n",
        "    #y[sample] = y[sample] / y[sample].max()\n",
        "    y_add_noise = y[sample] + torch.rand(data.size())\n",
        "    for i in range(0,50):\n",
        "        y_add_noise[G[i]+10] = y_add_noise[G[i]+10] + 3\n",
        "        y_add_noise[G[i]+9] = y_add_noise[G[i]+9] + 3\n",
        "        y_add_noise[G[i]+11] = y_add_noise[G[i]+11] + 3\n",
        "        y_add_noise[G[i]+8] = y_add_noise[G[i]+9] + 3\n",
        "        y_add_noise[G[i]+12] = y_add_noise[G[i]+11] + 3\n",
        "\n",
        "    '''\n",
        "    # add noise\n",
        "    normb = linalg.norm(b)\n",
        "    noise = rng.randn(m)\n",
        "    noise = noise / linalg.norm(noise) * normb / snr\n",
        "    b = b + noise\n",
        "    '''\n",
        "\n",
        "    input_data[sample, :] = y_add_noise\n",
        "    true[sample, :] = y[sample]\n"
      ],
      "execution_count": 21,
      "outputs": [
        {
          "output_type": "stream",
          "text": [
            "torch.Size([20000])\n",
            "20000\n"
          ],
          "name": "stdout"
        }
      ]
    },
    {
      "cell_type": "code",
      "metadata": {
        "id": "hUy4R7lBdUYB",
        "colab_type": "code",
        "outputId": "6da4fe38-341a-4baa-e3e5-c12c2fddd4e8",
        "colab": {
          "base_uri": "https://localhost:8080/",
          "height": 153
        }
      },
      "source": [
        "input_data.to(device=device)\n",
        "print(input_data.size())\n",
        "true"
      ],
      "execution_count": 22,
      "outputs": [
        {
          "output_type": "stream",
          "text": [
            "torch.Size([50, 20000])\n"
          ],
          "name": "stdout"
        },
        {
          "output_type": "execute_result",
          "data": {
            "text/plain": [
              "tensor([[10.5899, 10.5835, 10.5644,  ..., -1.7717, -1.7376, -1.7149],\n",
              "        [ 8.5622,  8.5622,  8.5620,  ..., -3.1906, -3.1867, -3.1828],\n",
              "        [ 8.1648,  8.1646,  8.1640,  ..., -0.9548, -0.9635, -0.9721],\n",
              "        ...,\n",
              "        [ 9.3765,  9.3765,  9.3763,  ..., -2.8116, -2.8188, -2.8260],\n",
              "        [ 9.4105,  9.4103,  9.4098,  ..., -1.0142, -1.0008, -0.9874],\n",
              "        [10.6965, 10.6963, 10.6957,  ...,  2.6271,  2.6256,  2.6243]])"
            ]
          },
          "metadata": {
            "tags": []
          },
          "execution_count": 22
        }
      ]
    },
    {
      "cell_type": "code",
      "metadata": {
        "id": "rRIS8wBGeIZ4",
        "colab_type": "code",
        "outputId": "c0ae7e88-ce61-4fdb-c08a-6b8afcf9b280",
        "colab": {
          "base_uri": "https://localhost:8080/",
          "height": 68
        }
      },
      "source": [
        "model = uISTA(30).to(device=device)\n",
        "model.cuda()\n",
        "print(model.named_parameters())\n",
        "print(model.parameters())"
      ],
      "execution_count": 23,
      "outputs": [
        {
          "output_type": "stream",
          "text": [
            "cuda\n",
            "<generator object Module.named_parameters at 0x7f0b88a64e60>\n",
            "<generator object Module.parameters at 0x7f0b88a64e60>\n"
          ],
          "name": "stdout"
        }
      ]
    },
    {
      "cell_type": "code",
      "metadata": {
        "id": "ZO8c874X5fYp",
        "colab_type": "code",
        "outputId": "b00288af-ec20-4463-b150-e64600fed5a2",
        "colab": {
          "base_uri": "https://localhost:8080/",
          "height": 187
        }
      },
      "source": [
        "print('Is model parameters on GPU? :', next(model.parameters()).is_cuda)\n",
        "for param in model.parameters():\n",
        "    print(type(param.data), param.size(), ', is_cuda:', param.is_cuda)"
      ],
      "execution_count": 24,
      "outputs": [
        {
          "output_type": "stream",
          "text": [
            "Is model parameters on GPU? : True\n",
            "<class 'torch.Tensor'> torch.Size([1]) , is_cuda: True\n",
            "<class 'torch.Tensor'> torch.Size([1, 1, 20, 1]) , is_cuda: True\n",
            "<class 'torch.Tensor'> torch.Size([1, 1, 20, 1]) , is_cuda: True\n",
            "<class 'torch.Tensor'> torch.Size([1, 1, 1, 20]) , is_cuda: True\n",
            "<class 'torch.Tensor'> torch.Size([1, 1, 1, 20]) , is_cuda: True\n",
            "<class 'torch.Tensor'> torch.Size([1, 1, 20, 1]) , is_cuda: True\n",
            "<class 'torch.Tensor'> torch.Size([1, 1, 20, 1]) , is_cuda: True\n",
            "<class 'torch.Tensor'> torch.Size([1, 1, 1, 20]) , is_cuda: True\n",
            "<class 'torch.Tensor'> torch.Size([1, 1, 1, 20]) , is_cuda: True\n"
          ],
          "name": "stdout"
        }
      ]
    },
    {
      "cell_type": "code",
      "metadata": {
        "id": "kdNnG5JGfJcL",
        "colab_type": "code",
        "outputId": "c4239733-ad69-4cb1-b28e-107dbc8c6a00",
        "colab": {
          "base_uri": "https://localhost:8080/",
          "height": 1000
        }
      },
      "source": [
        "model_out = model.forward(input_data)"
      ],
      "execution_count": 25,
      "outputs": [
        {
          "output_type": "stream",
          "text": [
            "tensor([0., -0., 0.,  ..., -0., -0., -0.], grad_fn=<SelectBackward>)\n",
            "1111111\n",
            "0\n",
            "after f\n",
            "koeta\n",
            "1\n",
            "after f\n",
            "koeta\n",
            "2\n",
            "after f\n",
            "koeta\n",
            "3\n",
            "after f\n",
            "koeta\n",
            "4\n",
            "after f\n",
            "koeta\n",
            "5\n",
            "after f\n",
            "koeta\n",
            "6\n",
            "after f\n",
            "koeta\n",
            "7\n",
            "after f\n",
            "koeta\n",
            "8\n",
            "after f\n",
            "koeta\n",
            "9\n",
            "after f\n",
            "koeta\n",
            "10\n",
            "after f\n",
            "koeta\n",
            "11\n",
            "after f\n",
            "koeta\n",
            "12\n",
            "after f\n",
            "koeta\n",
            "13\n",
            "after f\n",
            "koeta\n",
            "14\n",
            "after f\n",
            "koeta\n",
            "15\n",
            "after f\n",
            "koeta\n",
            "16\n",
            "after f\n",
            "koeta\n",
            "17\n",
            "after f\n",
            "koeta\n",
            "18\n",
            "after f\n",
            "koeta\n",
            "19\n",
            "after f\n",
            "koeta\n",
            "20\n",
            "after f\n",
            "koeta\n",
            "21\n",
            "after f\n",
            "koeta\n",
            "22\n",
            "after f\n",
            "koeta\n",
            "23\n",
            "after f\n",
            "koeta\n",
            "24\n",
            "after f\n",
            "koeta\n",
            "25\n",
            "after f\n",
            "koeta\n",
            "26\n",
            "after f\n",
            "koeta\n",
            "27\n",
            "after f\n",
            "koeta\n",
            "28\n",
            "after f\n",
            "koeta\n",
            "29\n",
            "after f\n",
            "koeta\n"
          ],
          "name": "stdout"
        },
        {
          "output_type": "display_data",
          "data": {
            "image/png": "[encoded data removed]",
            "text/plain": [
              "<Figure size 432x288 with 1 Axes>"
            ]
          },
          "metadata": {
            "tags": []
          }
        }
      ]
    },
    {
      "cell_type": "code",
      "metadata": {
        "id": "ybJ4yyU9tfWX",
        "colab_type": "code",
        "outputId": "36f1a295-4e7f-4564-e250-8d4c688ea81a",
        "colab": {
          "base_uri": "https://localhost:8080/",
          "height": 555
        }
      },
      "source": [
        "j = 49\n",
        "print(\"xの結果\\n\",model_out[0])\n",
        "print(\"xとフーリエ変換したものの乗算\\n\",tdct.dct(input_data[j]).mul(model_out[0][j]))\n",
        "print(\"スパース解xをつかって求めた波形\\n\",tdct.idct(tdct.dct(input_data[j]).mul(model_out[0][j]).div(model_out[0][j].max())))\n",
        "check = tdct.idct(tdct.dct(input_data[j]).mul(model_out[0][j]).div(model_out[0][j].max()))\n",
        "print(type(check))\n",
        "plt.subplot(5,1,1)\n",
        "plt.plot(data.cpu(),true[j].cpu())\n",
        "plt.subplot(5,1,2)\n",
        "plt.plot(data.cpu(),y_add_noise.cpu().detach().numpy())\n",
        "plt.subplot(5,1,3)\n",
        "plt.plot(data.cpu(),check.cpu().detach().numpy())\n",
        "plt.subplot(5,1,4)\n",
        "plt.plot(data.cpu(),tdct.dct(input_data[j]).mul(model_out[0][j]).cpu().detach().numpy())\n",
        "plt.subplot(5,1,5)\n",
        "plt.plot(torch.arange(0,len(data)).cpu(),model_out[0][j].cpu().detach().numpy())"
      ],
      "execution_count": 26,
      "outputs": [
        {
          "output_type": "stream",
          "text": [
            "xの結果\n",
            " tensor([[ 9.5737,  8.7043,  9.0276,  ..., -0.0000, -0.0000, -0.0000],\n",
            "        [ 6.6734,  7.0029,  7.3347,  ..., -0.6717, -1.0777, -0.9161],\n",
            "        [ 6.8543,  7.0323,  6.4778,  ..., -0.0000, -0.0000, -0.0000],\n",
            "        ...,\n",
            "        [ 8.2132,  8.1022,  7.7497,  ..., -0.1342, -0.7583, -0.4094],\n",
            "        [ 8.4093,  7.5062,  7.4909,  ..., -0.0000, -0.0000, -0.0000],\n",
            "        [ 9.1428,  8.7501,  9.1659,  ...,  1.3241,  1.5166,  0.6414]],\n",
            "       grad_fn=<MulBackward0>)\n",
            "xとフーリエ変換したものの乗算\n",
            " tensor([ 2.0331e+05, -2.0358e+03,  9.9409e+02,  ...,  3.7081e+00,\n",
            "         5.1012e+01,  9.0293e+01], grad_fn=<MulBackward0>)\n",
            "スパース解xをつかって求めた波形\n",
            " tensor([7.9687, 7.9643, 7.9481,  ..., 2.3875, 2.3858, 2.4285],\n",
            "       grad_fn=<ViewBackward>)\n",
            "<class 'torch.Tensor'>\n"
          ],
          "name": "stdout"
        },
        {
          "output_type": "execute_result",
          "data": {
            "text/plain": [
              "[<matplotlib.lines.Line2D at 0x7f0b88938208>]"
            ]
          },
          "metadata": {
            "tags": []
          },
          "execution_count": 26
        },
        {
          "output_type": "display_data",
          "data": {
            "image/png": "[encoded data removed]",
            "text/plain": [
              "<Figure size 432x288 with 5 Axes>"
            ]
          },
          "metadata": {
            "tags": []
          }
        }
      ]
    },
    {
      "cell_type": "code",
      "metadata": {
        "id": "bPPT2E-8uB-6",
        "colab_type": "code",
        "outputId": "4fb4633d-9369-4c86-ef75-aadd60fa14f3",
        "colab": {
          "base_uri": "https://localhost:8080/",
          "height": 419
        }
      },
      "source": [
        "wt = DWTForward(J=3,wave='db10',mode='zero')\n",
        "iwt = DWTInverse(wave='db10', mode='zero')\n",
        "\n",
        "print(\"wの結果\",type(model_out[1]),model_out[1].size(),'\\n',model_out[1][j][0][0])\n",
        "#print(\"wとフーリエ変換したものの乗算\\n\",tdct.dct(input_data[j]).mul(model_out[1][j]))\n",
        "#print(\"wとwtしたものの乗算\\n\",wt((input_data[j].reshape(1,1,1,-1).mul(model_out[1][j]))))\n",
        "#print(\"スパース解wをつかって求めた波形\\n\",iwt(wt(input_data[j].reshape(1,1,1,-1)).mul(model_out[1][j][0][0]).div(wt(model_out[1][j])[0].max())))\n",
        "check = iwt(wt((input_data[j].reshape(1,1,1,-1).mul((model_out[1][j]).div(model_out[1][j].max())))))[0][0][0]\n",
        "print(type(check))\n",
        "print(check.size())\n",
        "print(((model_out[1][j]).div(model_out[1][j].max())))\n",
        "plt.subplot(5,1,1)\n",
        "plt.plot(data.cpu(),true[j].cpu())\n",
        "plt.subplot(5,1,2)\n",
        "plt.plot(data.cpu(),y_add_noise.cpu().detach().numpy())\n",
        "plt.subplot(5,1,3)\n",
        "plt.plot(data.cpu(),check.cpu().detach().numpy())\n",
        "plt.subplot(5,1,4)\n",
        "#print(wt((input_data[j].reshape(1,1,1,-1).mul((model_out[1][j]).div(model_out[1][j].max()))))[1])\n",
        "#plt.plot(data.cpu(),wt(input_data[j].reshape(1,1,1,-1)).mul(model_out[1][j][0][0]).div(wt(model_out[1][j])[0].max())).cpu().detach().numpy())\n",
        "plt.plot(data.cpu(),(input_data[j]).mul(model_out[1][j][0][0].div(model_out[1][j][0][0].max())).cpu().detach().numpy())\n",
        "plt.subplot(5,1,5)\n",
        "plt.plot(torch.arange(0,len(data)).cpu(),model_out[1][j][0][0].cpu().detach().numpy())"
      ],
      "execution_count": 27,
      "outputs": [
        {
          "output_type": "stream",
          "text": [
            "wの結果 <class 'torch.Tensor'> torch.Size([50, 1, 2, 20000]) \n",
            " tensor([9.1428, 8.7501, 9.1659,  ..., 1.3241, 1.5166, 0.6414],\n",
            "       grad_fn=<SelectBackward>)\n",
            "<class 'torch.Tensor'>\n",
            "torch.Size([20000])\n",
            "tensor([[[0.7284, 0.6972, 0.7303,  ..., 0.1055, 0.1208, 0.0511],\n",
            "         [0.7284, 0.6972, 0.7303,  ..., 0.1055, 0.1208, 0.0511]]],\n",
            "       grad_fn=<DivBackward0>)\n"
          ],
          "name": "stdout"
        },
        {
          "output_type": "execute_result",
          "data": {
            "text/plain": [
              "[<matplotlib.lines.Line2D at 0x7f0b88755588>]"
            ]
          },
          "metadata": {
            "tags": []
          },
          "execution_count": 27
        },
        {
          "output_type": "display_data",
          "data": {
            "image/png": "[encoded data removed]",
            "text/plain": [
              "<Figure size 432x288 with 5 Axes>"
            ]
          },
          "metadata": {
            "tags": []
          }
        }
      ]
    },
    {
      "cell_type": "code",
      "metadata": {
        "id": "Ggl3qZQIyxV7",
        "colab_type": "code",
        "colab": {}
      },
      "source": [
        "def w_softshrink(self,z,th):\n",
        "    return [self.prox(x,th) for x in z]\n"
      ],
      "execution_count": 0,
      "outputs": []
    },
    {
      "cell_type": "code",
      "metadata": {
        "id": "VQp3NXVuaLTV",
        "colab_type": "code",
        "outputId": "528fbfaa-2bf3-4316-f640-0fa76166a7a3",
        "colab": {
          "base_uri": "https://localhost:8080/",
          "height": 54
        }
      },
      "source": [
        "\"\"\"\n",
        "import torch\n",
        "import math\n",
        "import matplotlib.pyplot as plt\n",
        "#import torch_dct as tdct\n",
        "torch.set_default_tensor_type(torch.FloatTensor)\n",
        "\n",
        "#b * cos(2 * pi * (1/x)) #(1/x) = f\n",
        "a = torch.arange(0, 10, 0.0005)\n",
        "b = torch.rand(20)\n",
        "x = torch.arange(0.2,20,0.2)\n",
        "y = 0\n",
        "for i in range(0,9):\n",
        "    y = y + b[i] * torch.cos(2 * math.pi * (1. /x[i]) * a) \n",
        "y[600] = y[600] + 2\n",
        "y_add_noise = y + torch.rand(20000)\n",
        "print(y)\n",
        "print(y.size())\n",
        "plt.subplot(4,1,1)\n",
        "plt.plot(a,y)\n",
        "plt.subplot(4,1,2)\n",
        "plt.plot(a,y_add_noise)\n",
        "dcty = tdct.dct(y_add_noise)\n",
        "idcty = tdct.idct(dcty)\n",
        "idcty = tdct.idct(softm(dcty,0))\n",
        "plt.plot(a,idcty)\n",
        "yfft = torch.rfft(y_add_noise,1)\n",
        "print(yfft)\n",
        "yfft = f_softshrink(yfft,100)\n",
        "print(yfft)\n",
        "yifft = torch.irfft(yfft,1,signal_sizes = y.shape)\n",
        "print(yifft)\n",
        "plt.subplot(4,1,3)\n",
        "plt.plot(a,yifft)\n",
        "plt.subplot(4,1,4)\n",
        "#plt.plot(a,dcty)\n",
        "plt.plot(torch.arange(19940),dcty[60:])\n",
        "\"\"\""
      ],
      "execution_count": 29,
      "outputs": [
        {
          "output_type": "execute_result",
          "data": {
            "text/plain": [
              "'\\nimport torch\\nimport math\\nimport matplotlib.pyplot as plt\\n#import torch_dct as tdct\\ntorch.set_default_tensor_type(torch.FloatTensor)\\n\\n#b * cos(2 * pi * (1/x)) #(1/x) = f\\na = torch.arange(0, 10, 0.0005)\\nb = torch.rand(20)\\nx = torch.arange(0.2,20,0.2)\\ny = 0\\nfor i in range(0,9):\\n    y = y + b[i] * torch.cos(2 * math.pi * (1. /x[i]) * a) \\ny[600] = y[600] + 2\\ny_add_noise = y + torch.rand(20000)\\nprint(y)\\nprint(y.size())\\nplt.subplot(4,1,1)\\nplt.plot(a,y)\\nplt.subplot(4,1,2)\\nplt.plot(a,y_add_noise)\\ndcty = tdct.dct(y_add_noise)\\nidcty = tdct.idct(dcty)\\nidcty = tdct.idct(softm(dcty,0))\\nplt.plot(a,idcty)\\nyfft = torch.rfft(y_add_noise,1)\\nprint(yfft)\\nyfft = f_softshrink(yfft,100)\\nprint(yfft)\\nyifft = torch.irfft(yfft,1,signal_sizes = y.shape)\\nprint(yifft)\\nplt.subplot(4,1,3)\\nplt.plot(a,yifft)\\nplt.subplot(4,1,4)\\n#plt.plot(a,dcty)\\nplt.plot(torch.arange(19940),dcty[60:])\\n'"
            ]
          },
          "metadata": {
            "tags": []
          },
          "execution_count": 29
        }
      ]
    },
    {
      "cell_type": "code",
      "metadata": {
        "colab_type": "code",
        "id": "1PTSJ2ih7BZV",
        "outputId": "552a7a5e-6637-4b77-a56a-85972b5e0b53",
        "colab": {
          "base_uri": "https://localhost:8080/",
          "height": 54
        }
      },
      "source": [
        "\"\"\"\n",
        "import torch\n",
        "import math\n",
        "import matplotlib.pyplot as plt\n",
        "from pytorch_wavelets import DWTForward, DWTInverse\n",
        "import torch_dct as tdct\n",
        "\n",
        "maxnum = 10\n",
        "#b * cos(2 * pi * (1/x)) #(1/x) = f\n",
        "a = torch.arange(0, 10, 0.0005)\n",
        "b = torch.rand(maxnum)\n",
        "x = torch.arange(0.2,maxnum,0.2)\n",
        "y = 0\n",
        "for i in range(0,maxnum):\n",
        "    y = y + b[i] * torch.cos(2 * math.pi * (1. /x[i]) * a) \n",
        "y[600] = y[600] + 5\n",
        "y_add_noise = y + torch.rand(20000)\n",
        "print(y)\n",
        "print(y.size())\n",
        "plt.subplot(5,1,1)\n",
        "plt.plot(a,y)\n",
        "plt.subplot(5,1,2)\n",
        "plt.plot(a,y_add_noise)\n",
        "\n",
        "wty = DWTForward(J=3, wave=\"db10\", mode='zero')\n",
        "iwty = DWTInverse(wave=\"db10\", mode='zero')\n",
        "Yl, Yh = wty(y_add_noise.view(1,1,1,y.size()[0]))\n",
        "Yh = [softm(x,100) for x in Yh]\n",
        "iwtyy = iwty((Yl,Yh))\n",
        "print(iwtyy)\n",
        "plt.subplot(5,1,3)\n",
        "plt.plot(a,iwtyy[0][0][0])\n",
        "\n",
        "dcty = tdct.dct(y_add_noise)\n",
        "dcty = softm(dcty,200)\n",
        "idcty = tdct.idct(dcty)\n",
        "plt.subplot(5,1,4)\n",
        "plt.plot(a,idcty)\n",
        "print(idcty)\n",
        "\n",
        "yfft = torch.rfft(y_add_noise,1)\n",
        "yfft = f_softshrink(yfft,200)\n",
        "yifft = torch.irfft(yfft,1,signal_sizes = y.shape)\n",
        "print(yifft)\n",
        "plt.subplot(5,1,5)\n",
        "plt.plot(a,yifft)\n",
        "\n",
        "print(torch.abs((y - idcty).sum()))\n",
        "print(torch.abs((y - yifft).sum()))\n",
        "\"\"\""
      ],
      "execution_count": 30,
      "outputs": [
        {
          "output_type": "execute_result",
          "data": {
            "text/plain": [
              "'\\nimport torch\\nimport math\\nimport matplotlib.pyplot as plt\\nfrom pytorch_wavelets import DWTForward, DWTInverse\\nimport torch_dct as tdct\\n\\nmaxnum = 10\\n#b * cos(2 * pi * (1/x)) #(1/x) = f\\na = torch.arange(0, 10, 0.0005)\\nb = torch.rand(maxnum)\\nx = torch.arange(0.2,maxnum,0.2)\\ny = 0\\nfor i in range(0,maxnum):\\n    y = y + b[i] * torch.cos(2 * math.pi * (1. /x[i]) * a) \\ny[600] = y[600] + 5\\ny_add_noise = y + torch.rand(20000)\\nprint(y)\\nprint(y.size())\\nplt.subplot(5,1,1)\\nplt.plot(a,y)\\nplt.subplot(5,1,2)\\nplt.plot(a,y_add_noise)\\n\\nwty = DWTForward(J=3, wave=\"db10\", mode=\\'zero\\')\\niwty = DWTInverse(wave=\"db10\", mode=\\'zero\\')\\nYl, Yh = wty(y_add_noise.view(1,1,1,y.size()[0]))\\nYh = [softm(x,100) for x in Yh]\\niwtyy = iwty((Yl,Yh))\\nprint(iwtyy)\\nplt.subplot(5,1,3)\\nplt.plot(a,iwtyy[0][0][0])\\n\\ndcty = tdct.dct(y_add_noise)\\ndcty = softm(dcty,200)\\nidcty = tdct.idct(dcty)\\nplt.subplot(5,1,4)\\nplt.plot(a,idcty)\\nprint(idcty)\\n\\nyfft = torch.rfft(y_add_noise,1)\\nyfft = f_softshrink(yfft,200)\\nyifft = torch.irfft(yfft,1,signal_sizes = y.shape)\\nprint(yifft)\\nplt.subplot(5,1,5)\\nplt.plot(a,yifft)\\n\\nprint(torch.abs((y - idcty).sum()))\\nprint(torch.abs((y - yifft).sum()))\\n'"
            ]
          },
          "metadata": {
            "tags": []
          },
          "execution_count": 30
        }
      ]
    },
    {
      "cell_type": "code",
      "metadata": {
        "id": "9i0SpAxxxCB3",
        "colab_type": "code",
        "outputId": "0662b659-5305-41fe-fce3-85b8280e86c5",
        "colab": {
          "base_uri": "https://localhost:8080/",
          "height": 54
        }
      },
      "source": [
        "\"\"\"\n",
        "import numpy as np\n",
        "import math\n",
        "import matplotlib.pyplot as plt\n",
        "from scipy import fftpack\n",
        "\n",
        "#b * cos(2 * pi * (1/x)) #(1/x) = f\n",
        "a = np.arange(0, 10, 0.0005)\n",
        "b = np.random.rand(9)\n",
        "x = np.arange(0.02,2,0.05)\n",
        "y = np.zeros(len(a))\n",
        "for i in range(0,9):\n",
        "    y = y + b[i] * np.cos(2 * math.pi * (1. /x[i]) * a) \n",
        "print(y)\n",
        "y = y #+ np.random.rand(len(y)) * 3\n",
        "print(len(y))\n",
        "print(x.size)\n",
        "plt.subplot(2,1,1)\n",
        "plt.plot(a,y)\n",
        "\n",
        "ydct = fftpack.dct(y,norm='ortho')\n",
        "yidct = fftpack.idct(ydct,norm='ortho')\n",
        "plt.subplot(2,1,2)\n",
        "plt.plot(a,yidct)\n",
        "print(y)\n",
        "print(ydct)\n",
        "print(yidct)\n",
        "print(y - yidct)\n",
        "print((np.fabs(y - yidct)).sum())\n",
        "assert (y - yidct).sum() < 1e-10\n",
        "\"\"\""
      ],
      "execution_count": 31,
      "outputs": [
        {
          "output_type": "execute_result",
          "data": {
            "text/plain": [
              "\"\\nimport numpy as np\\nimport math\\nimport matplotlib.pyplot as plt\\nfrom scipy import fftpack\\n\\n#b * cos(2 * pi * (1/x)) #(1/x) = f\\na = np.arange(0, 10, 0.0005)\\nb = np.random.rand(9)\\nx = np.arange(0.02,2,0.05)\\ny = np.zeros(len(a))\\nfor i in range(0,9):\\n    y = y + b[i] * np.cos(2 * math.pi * (1. /x[i]) * a) \\nprint(y)\\ny = y #+ np.random.rand(len(y)) * 3\\nprint(len(y))\\nprint(x.size)\\nplt.subplot(2,1,1)\\nplt.plot(a,y)\\n\\nydct = fftpack.dct(y,norm='ortho')\\nyidct = fftpack.idct(ydct,norm='ortho')\\nplt.subplot(2,1,2)\\nplt.plot(a,yidct)\\nprint(y)\\nprint(ydct)\\nprint(yidct)\\nprint(y - yidct)\\nprint((np.fabs(y - yidct)).sum())\\nassert (y - yidct).sum() < 1e-10\\n\""
            ]
          },
          "metadata": {
            "tags": []
          },
          "execution_count": 31
        }
      ]
    }
  ]
}