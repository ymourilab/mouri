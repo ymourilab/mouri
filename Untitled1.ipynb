{
  "nbformat": 4,
  "nbformat_minor": 0,
  "metadata": {
    "colab": {
      "name": "Untitled1.ipynb",
      "provenance": [],
      "collapsed_sections": [],
      "include_colab_link": true
    },
    "kernelspec": {
      "name": "python3",
      "display_name": "Python 3"
    },
    "accelerator": "GPU"
  },
  "cells": [
    {
      "cell_type": "markdown",
      "metadata": {
        "id": "view-in-github",
        "colab_type": "text"
      },
      "source": [
        "<a href=\"https://colab.research.google.com/github/ymourilab/mouri/blob/master/Untitled1.ipynb\" target=\"_parent\"><img src=\"https://colab.research.google.com/assets/colab-badge.svg\" alt=\"Open In Colab\"/></a>"
      ]
    },
    {
      "cell_type": "code",
      "metadata": {
        "id": "Vx0XjR2V5oQa",
        "colab_type": "code",
        "outputId": "27f5bd49-972e-435d-f1a1-542c7ab6ee7e",
        "colab": {
          "base_uri": "https://localhost:8080/",
          "height": 343
        }
      },
      "source": [
        "!git clone https://github.com/fbcotter/pytorch_wavelets\n",
        "!pip install ./pytorch_wavelets/."
      ],
      "execution_count": 1,
      "outputs": [
        {
          "output_type": "stream",
          "text": [
            "Cloning into 'pytorch_wavelets'...\n",
            "remote: Enumerating objects: 125, done.\u001b[K\n",
            "remote: Counting objects: 100% (125/125), done.\u001b[K\n",
            "remote: Compressing objects: 100% (68/68), done.\u001b[K\n",
            "remote: Total 836 (delta 75), reused 93 (delta 56), pack-reused 711\u001b[K\n",
            "Receiving objects: 100% (836/836), 6.70 MiB | 5.25 MiB/s, done.\n",
            "Resolving deltas: 100% (566/566), done.\n",
            "Processing ./pytorch_wavelets\n",
            "Requirement already satisfied: numpy in /usr/local/lib/python3.6/dist-packages (from pytorch-wavelets==1.1.0) (1.17.4)\n",
            "Requirement already satisfied: six in /usr/local/lib/python3.6/dist-packages (from pytorch-wavelets==1.1.0) (1.12.0)\n",
            "Requirement already satisfied: torch in /usr/local/lib/python3.6/dist-packages (from pytorch-wavelets==1.1.0) (1.3.1)\n",
            "Building wheels for collected packages: pytorch-wavelets\n",
            "  Building wheel for pytorch-wavelets (setup.py) ... \u001b[?25l\u001b[?25hdone\n",
            "  Created wheel for pytorch-wavelets: filename=pytorch_wavelets-1.1.0-cp36-none-any.whl size=46100 sha256=5927555b012ce5b87f135fea671b679de17afc697d44740f00d225934c536207\n",
            "  Stored in directory: /tmp/pip-ephem-wheel-cache-iivpsdyq/wheels/82/e1/5b/16a4e6ccfc0bb2ce14bd2796adb13e6e9b718cb7d2e1ae3643\n",
            "Successfully built pytorch-wavelets\n",
            "Installing collected packages: pytorch-wavelets\n",
            "Successfully installed pytorch-wavelets-1.1.0\n"
          ],
          "name": "stdout"
        }
      ]
    },
    {
      "cell_type": "code",
      "metadata": {
        "id": "raA6CcvL519a",
        "colab_type": "code",
        "outputId": "f1c3d09f-9fda-4d9f-a91f-1eb6dfe74a3d",
        "colab": {
          "base_uri": "https://localhost:8080/",
          "height": 309
        }
      },
      "source": [
        "!git clone https://github.com/zh217/torch-dct\n",
        "!pip install ./torch-dct/."
      ],
      "execution_count": 2,
      "outputs": [
        {
          "output_type": "stream",
          "text": [
            "Cloning into 'torch-dct'...\n",
            "remote: Enumerating objects: 1, done.\u001b[K\n",
            "remote: Counting objects: 100% (1/1), done.\u001b[K\n",
            "remote: Total 108 (delta 0), reused 0 (delta 0), pack-reused 107\u001b[K\n",
            "Receiving objects: 100% (108/108), 20.64 KiB | 118.00 KiB/s, done.\n",
            "Resolving deltas: 100% (47/47), done.\n",
            "Processing ./torch-dct\n",
            "Requirement already satisfied: torch>=0.4.1 in /usr/local/lib/python3.6/dist-packages (from torch-dct==0.1.5) (1.3.1)\n",
            "Requirement already satisfied: numpy in /usr/local/lib/python3.6/dist-packages (from torch>=0.4.1->torch-dct==0.1.5) (1.17.4)\n",
            "Building wheels for collected packages: torch-dct\n",
            "  Building wheel for torch-dct (setup.py) ... \u001b[?25l\u001b[?25hdone\n",
            "  Created wheel for torch-dct: filename=torch_dct-0.1.5-cp36-none-any.whl size=4997 sha256=5a75bb6a9ff48c307ae0509d0a335918e4ff08ddc5bb7c50e2e5953ccd7d3b19\n",
            "  Stored in directory: /root/.cache/pip/wheels/54/af/7d/bfc942607a03ab314a2c757dae2f27d25d9698e9ed106890ed\n",
            "Successfully built torch-dct\n",
            "Installing collected packages: torch-dct\n",
            "Successfully installed torch-dct-0.1.5\n"
          ],
          "name": "stdout"
        }
      ]
    },
    {
      "cell_type": "code",
      "metadata": {
        "id": "Qa-sLz0rkOyG",
        "colab_type": "code",
        "outputId": "3dbe94e1-f044-4385-b7e9-1a42e262a154",
        "colab": {
          "base_uri": "https://localhost:8080/",
          "height": 428
        }
      },
      "source": [
        "!git clone https://github.com/tsakailab/spmlib\n",
        "!pip install ./spmlib/."
      ],
      "execution_count": 3,
      "outputs": [
        {
          "output_type": "stream",
          "text": [
            "Cloning into 'spmlib'...\n",
            "remote: Enumerating objects: 472, done.\u001b[K\n",
            "remote: Total 472 (delta 0), reused 0 (delta 0), pack-reused 472\u001b[K\n",
            "Receiving objects: 100% (472/472), 1.02 MiB | 1.11 MiB/s, done.\n",
            "Resolving deltas: 100% (292/292), done.\n",
            "Processing ./spmlib\n",
            "Requirement already satisfied: numpy in /usr/local/lib/python3.6/dist-packages (from spmlib==0.0.2) (1.17.4)\n",
            "Requirement already satisfied: scipy>=0.19.1 in /usr/local/lib/python3.6/dist-packages (from spmlib==0.0.2) (1.3.3)\n",
            "Requirement already satisfied: matplotlib in /usr/local/lib/python3.6/dist-packages (from spmlib==0.0.2) (3.1.2)\n",
            "Requirement already satisfied: future in /usr/local/lib/python3.6/dist-packages (from spmlib==0.0.2) (0.16.0)\n",
            "Requirement already satisfied: python-dateutil>=2.1 in /usr/local/lib/python3.6/dist-packages (from matplotlib->spmlib==0.0.2) (2.6.1)\n",
            "Requirement already satisfied: pyparsing!=2.0.4,!=2.1.2,!=2.1.6,>=2.0.1 in /usr/local/lib/python3.6/dist-packages (from matplotlib->spmlib==0.0.2) (2.4.5)\n",
            "Requirement already satisfied: cycler>=0.10 in /usr/local/lib/python3.6/dist-packages (from matplotlib->spmlib==0.0.2) (0.10.0)\n",
            "Requirement already satisfied: kiwisolver>=1.0.1 in /usr/local/lib/python3.6/dist-packages (from matplotlib->spmlib==0.0.2) (1.1.0)\n",
            "Requirement already satisfied: six>=1.5 in /usr/local/lib/python3.6/dist-packages (from python-dateutil>=2.1->matplotlib->spmlib==0.0.2) (1.12.0)\n",
            "Requirement already satisfied: setuptools in /usr/local/lib/python3.6/dist-packages (from kiwisolver>=1.0.1->matplotlib->spmlib==0.0.2) (42.0.1)\n",
            "Building wheels for collected packages: spmlib\n",
            "  Building wheel for spmlib (setup.py) ... \u001b[?25l\u001b[?25hdone\n",
            "  Created wheel for spmlib: filename=spmlib-0.0.2-cp36-none-any.whl size=31043 sha256=4d29b563e2728028cbe01f1977f24351d4050f914ee3566269a9476824caffc8\n",
            "  Stored in directory: /tmp/pip-ephem-wheel-cache-q32m8w_y/wheels/1e/f6/cc/cd78cdd96d355b10ed80b084799e683fc05897360cf81d71e5\n",
            "Successfully built spmlib\n",
            "Installing collected packages: spmlib\n",
            "Successfully installed spmlib-0.0.2\n"
          ],
          "name": "stdout"
        }
      ]
    },
    {
      "cell_type": "code",
      "metadata": {
        "id": "due82XR-a5mP",
        "colab_type": "code",
        "outputId": "e828e8c8-e468-446a-f6bc-3430776b66e8",
        "colab": {
          "base_uri": "https://localhost:8080/",
          "height": 68
        }
      },
      "source": [
        "import torch\n",
        "print(torch.__version__)\n",
        "print(torch.cuda.is_available())\n",
        "device = torch.device(\"cuda\" if torch.cuda.is_available() else \"cpu\")\n",
        "print(device)"
      ],
      "execution_count": 4,
      "outputs": [
        {
          "output_type": "stream",
          "text": [
            "1.3.1\n",
            "True\n",
            "cuda\n"
          ],
          "name": "stdout"
        }
      ]
    },
    {
      "cell_type": "code",
      "metadata": {
        "colab_type": "code",
        "id": "rZZZPvy7rXKC",
        "outputId": "c8c26297-5b24-4f15-b708-f1ca1b938c86",
        "colab": {
          "base_uri": "https://localhost:8080/",
          "height": 54
        }
      },
      "source": [
        "\"\"\"\n",
        "# soft thresholding function\n",
        "def soft(z, th):\n",
        "    return np.sign(z) * np.maximum(np.abs(z) - th, 0)\n",
        "\n",
        "from scipy import linalg\n",
        "# Iterative soft thresholding (IST)\n",
        "def ISTA(A, b, tol=1e-5, maxiter=300, l=1., L=None):\n",
        "    m, n = A.shape #Aの行をm、列をnに\n",
        "    x = np.zeros(n) #nのゼロ埋め\n",
        "    r = b.copy() #r求めたい\n",
        "    if L is None:    # roughly estimate the Lipschitz constant\n",
        "        L = 2*linalg.norm(A.dot(A.T.dot(b))) / linalg.norm(b)\n",
        "    count = 0\n",
        "    cost_history = []\n",
        "    normr = linalg.norm(r)\n",
        "    while count < maxiter and normr > tol:\n",
        "        count += 1\n",
        "        x = soft(x + A.T.dot(r) / L, l/L)\n",
        "        r = b - A.dot(x)\n",
        "        normr = linalg.norm(r)\n",
        "        cost_history.append( normr*normr + l*np.sum(np.abs(x)) )\n",
        "    return x, cost_history\n",
        "\"\"\""
      ],
      "execution_count": 5,
      "outputs": [
        {
          "output_type": "execute_result",
          "data": {
            "text/plain": [
              "'\\n# soft thresholding function\\ndef soft(z, th):\\n    return np.sign(z) * np.maximum(np.abs(z) - th, 0)\\n\\nfrom scipy import linalg\\n# Iterative soft thresholding (IST)\\ndef ISTA(A, b, tol=1e-5, maxiter=300, l=1., L=None):\\n    m, n = A.shape #Aの行をm、列をnに\\n    x = np.zeros(n) #nのゼロ埋め\\n    r = b.copy() #r求めたい\\n    if L is None:    # roughly estimate the Lipschitz constant\\n        L = 2*linalg.norm(A.dot(A.T.dot(b))) / linalg.norm(b)\\n    count = 0\\n    cost_history = []\\n    normr = linalg.norm(r)\\n    while count < maxiter and normr > tol:\\n        count += 1\\n        x = soft(x + A.T.dot(r) / L, l/L)\\n        r = b - A.dot(x)\\n        normr = linalg.norm(r)\\n        cost_history.append( normr*normr + l*np.sum(np.abs(x)) )\\n    return x, cost_history\\n'"
            ]
          },
          "metadata": {
            "tags": []
          },
          "execution_count": 5
        }
      ]
    },
    {
      "cell_type": "code",
      "metadata": {
        "id": "9i0SpAxxxCB3",
        "colab_type": "code",
        "outputId": "6a80cdb3-585b-426e-df84-9de4c555acbf",
        "colab": {
          "base_uri": "https://localhost:8080/",
          "height": 435
        }
      },
      "source": [
        "import numpy as np\n",
        "import math\n",
        "import matplotlib.pyplot as plt\n",
        "from scipy import fftpack\n",
        "\n",
        "#b * cos(2 * pi * (1/x)) #(1/x) = f\n",
        "a = np.arange(0, 10, 0.0005)\n",
        "b = np.random.rand(9)\n",
        "x = np.arange(0.2,2,0.2)\n",
        "y = np.zeros(len(a))\n",
        "for i in range(0,9):\n",
        "    y = y + b[i] * np.cos(2 * math.pi * (1. /x[i]) * a) \n",
        "print(y)\n",
        "y = y #+ np.random.rand(len(y)) * 3\n",
        "print(len(y))\n",
        "print(x.size)\n",
        "plt.subplot(2,1,1)\n",
        "plt.plot(a,y)\n",
        "\n",
        "ydct = fftpack.dct(y,norm='ortho')\n",
        "yidct = fftpack.idct(ydct,norm='ortho')\n",
        "plt.subplot(2,1,2)\n",
        "plt.plot(a,yidct)\n",
        "print(y)\n",
        "print(ydct)\n",
        "print(yidct)\n",
        "print(y - yidct)\n",
        "print((np.fabs(y - yidct)).sum())\n",
        "assert (y - yidct).sum() < 1e-10"
      ],
      "execution_count": 6,
      "outputs": [
        {
          "output_type": "stream",
          "text": [
            "[4.52174428 4.52169625 4.52155216 ... 0.31139753 0.31062779 0.30981172]\n",
            "20000\n",
            "9\n",
            "[4.52174428 4.52169625 4.52155216 ... 0.31139753 0.31062779 0.30981172]\n",
            "[ 4.56272229e+00 -6.44500595e+00  6.60601308e+00 ...  4.79731170e-10\n",
            " -3.57542831e-10  1.59910769e-10]\n",
            "[4.52174428 4.52169625 4.52155216 ... 0.31139753 0.31062779 0.30981172]\n",
            "[0.00000000e+00 1.77635684e-15 2.66453526e-15 ... 7.21644966e-16\n",
            " 9.43689571e-16 2.77555756e-16]\n",
            "8.12539727342021e-12\n"
          ],
          "name": "stdout"
        },
        {
          "output_type": "display_data",
          "data": {
            "image/png": "[encoded data removed]",
            "text/plain": [
              "<Figure size 432x288 with 2 Axes>"
            ]
          },
          "metadata": {
            "tags": []
          }
        }
      ]
    },
    {
      "cell_type": "code",
      "metadata": {
        "id": "SCWp4rZoqSfE",
        "colab_type": "code",
        "outputId": "0ada5913-1776-443a-f2ad-ee292076d084",
        "colab": {
          "base_uri": "https://localhost:8080/",
          "height": 54
        }
      },
      "source": [
        "\"\"\"\n",
        "class uISTA(torch.nn.Module):\n",
        "\n",
        "    def __init__(self, num_unroll, A, l=1., scale=1., prox=None):\n",
        "        super(uISTA, self).__init__()\n",
        "        self.num_unroll = num_unroll #unroll回数\n",
        "        self.A = torch.nn.Parameter(torch.FloatTensor(A), requires_grad=True)#fhみたいなのに変更する\n",
        "        self.l = torch.nn.Parameter(torch.FloatTensor([l]), requires_grad=True)#なんか配列作ってる多分なんかの計算用theta\n",
        "        self.scale = scale#thetaの計算に使ってる\n",
        "        if prox is None:\n",
        "            self.prox = lambda z, th: z.sign() * (z.abs_() - th).max(torch.tensor(0, device=device).float()) #zの値を0か負(=-1)か正(=1)か判定したやつとsoft閾値処理したやつの乗算\n",
        "        else:\n",
        "            self.prox = prox\n",
        "            \n",
        "    def forward(self, b):\n",
        "        theta = torch.mul(self.l, self.scale)#lの要素をscale倍するらしい\n",
        "        # prox(A.dot(b*scale), theta) for initial guess of x xの初期値を決めるよ\n",
        "        x = self.prox(b.mul(self.scale).matmul(self.A), theta)    #matmulをdctにdwtに\n",
        "        for i in range(self.num_unroll):\n",
        "            # x = prox(x+A.T.dot(b-A.dot(x))*scale, theta) ISTAの繰り返し部分\n",
        "            x = self.prox(x + (b - x.matmul(self.A.t())).mul_(self.scale).matmul(self.A), theta) #matmul A.t をdct,dwtに matmul Aをidct,idwtに\n",
        "        return x\n",
        "\n",
        "    #関数AとATのかわり\n",
        "\"\"\""
      ],
      "execution_count": 7,
      "outputs": [
        {
          "output_type": "execute_result",
          "data": {
            "text/plain": [
              "'\\nclass uISTA(torch.nn.Module):\\n\\n    def __init__(self, num_unroll, A, l=1., scale=1., prox=None):\\n        super(uISTA, self).__init__()\\n        self.num_unroll = num_unroll #unroll回数\\n        self.A = torch.nn.Parameter(torch.FloatTensor(A), requires_grad=True)#fhみたいなのに変更する\\n        self.l = torch.nn.Parameter(torch.FloatTensor([l]), requires_grad=True)#なんか配列作ってる多分なんかの計算用theta\\n        self.scale = scale#thetaの計算に使ってる\\n        if prox is None:\\n            self.prox = lambda z, th: z.sign() * (z.abs_() - th).max(torch.tensor(0, device=device).float()) #zの値を0か負(=-1)か正(=1)か判定したやつとsoft閾値処理したやつの乗算\\n        else:\\n            self.prox = prox\\n            \\n    def forward(self, b):\\n        theta = torch.mul(self.l, self.scale)#lの要素をscale倍するらしい\\n        # prox(A.dot(b*scale), theta) for initial guess of x xの初期値を決めるよ\\n        x = self.prox(b.mul(self.scale).matmul(self.A), theta)    #matmulをdctにdwtに\\n        for i in range(self.num_unroll):\\n            # x = prox(x+A.T.dot(b-A.dot(x))*scale, theta) ISTAの繰り返し部分\\n            x = self.prox(x + (b - x.matmul(self.A.t())).mul_(self.scale).matmul(self.A), theta) #matmul A.t をdct,dwtに matmul Aをidct,idwtに\\n        return x\\n\\n    #関数AとATのかわり\\n'"
            ]
          },
          "metadata": {
            "tags": []
          },
          "execution_count": 7
        }
      ]
    },
    {
      "cell_type": "code",
      "metadata": {
        "id": "9VTbHAYpOJV1",
        "colab_type": "code",
        "colab": {}
      },
      "source": [
        "import torch_dct as tdct\n",
        "from pytorch_wavelets import DWTForward, DWTInverse\n",
        "\n",
        "class uISTA(torch.nn.Module):\n",
        "\n",
        "    def __init__(self, num_unroll, l=1., scale=1., prox=None, wt=None, iwt=None):\n",
        "        super(uISTA, self).__init__()\n",
        "        self.num_unroll = num_unroll #unroll回数\n",
        "        #self.A = torch.nn.Parameter(torch.FloatTensor(A), requires_grad=True)#fhみたいなのに変更する\n",
        "        self.l = torch.nn.Parameter(torch.FloatTensor([l]), requires_grad=True)#なんか配列作ってる多分なんかの計算用theta\n",
        "        self.scale = scale#thetaの計算に使ってる\n",
        "        if prox is None:\n",
        "            self.prox = lambda z, th: z.sign() * (z.abs_() - th).max(torch.tensor(0, device=device).float()) \n",
        "            #zの値を0か負(=-1)か正(=1)か判定したやつとsoft閾値処理したやつの乗算\n",
        "        else:\n",
        "            self.prox = prox\n",
        "\n",
        "        if wt is None:\n",
        "            self.wt = DWTForward(J=3,wave='db10',mode='zero')\n",
        "        else:\n",
        "            self.wt = wt\n",
        "\n",
        "        if iwt is None:\n",
        "            self.iwt = DWTInverse(wave='db10', mode='zero')\n",
        "        else:\n",
        "            self.iwt = iwt\n",
        "\n",
        "    def forward(self, b):\n",
        "        theta = torch.mul(self.l, self.scale)#lの要素をscale倍するらしい\n",
        "        # prox(A.dot(b*scale), theta) for initial guess of x xの初期値を決めるよ\n",
        "        #x = self.prox(b.mul(self.scale).matmul(self.A), theta)    #matmulをidctにidwtに\n",
        "        x = self.prox(tidct(b.mul(self.scale)), theta)\n",
        "        w = w_softshrink(idwt(b.reshape(-1,1,1,b.size()[0]).mul(self.scale), theta))\n",
        "        for i in range(self.num_unroll):\n",
        "            #x = prox(x+A.T.dot(b-A.dot(x))*scale, theta) ISTAの繰り返し部分\n",
        "            #x = self.prox(x + (b - x.matmul(self.A.t())).mul_(self.scale).matmul(self.A), theta)\n",
        "            #matmul A.t をdct,dwtに matmul Aをidct,idwtに\n",
        "            x = self.prox(x + (b - tidct(tdct(x).mul_(self.scale))), theta) \n",
        "            w = w_softshrink(w + (b.reshape(-1,1,1,b.size()[0] - idwt(dwt(w).mul_(self.scale)))), theta)\n",
        "        return x\n",
        "\n",
        "    #関数AとATのかわり\n",
        "    def tdct(self,x):\n",
        "        return tdct.dct(x)\n",
        "    \n",
        "    def tidct(self,x):\n",
        "        return tdct.idct(x)\n",
        "\n",
        "    def dwt(self,x,wt):\n",
        "        return wt(x)\n",
        "\n",
        "    def idwt(self,x,iwt):\n",
        "        return iwt((x[0],x[1]))\n",
        "\n",
        "    def w_softshrink(self,z,th):\n",
        "        return [self.prox(x,th) for x in z]\n",
        "\n",
        "    #%% sign function compatible with complex values\n",
        "    def sgn(z):\n",
        "        return torch.div(z, z.abs())\n",
        "\n",
        "    #%% soft thresholding function compatible with complex values\n",
        "    def f_softshrink(z, th):\n",
        "        return sgn(z) * torch.max(z.abs() - th, torch.tensor([0]).float())"
      ],
      "execution_count": 0,
      "outputs": []
    },
    {
      "cell_type": "code",
      "metadata": {
        "id": "Wv4UEoWi0HO9",
        "colab_type": "code",
        "colab": {}
      },
      "source": [
        "softm = lambda z, th: z.sign() * torch.max(z.abs() - th, torch.tensor([0]).float())"
      ],
      "execution_count": 0,
      "outputs": []
    },
    {
      "cell_type": "code",
      "metadata": {
        "id": "Eg-nEoU2CJaY",
        "colab_type": "code",
        "colab": {
          "base_uri": "https://localhost:8080/",
          "height": 54
        },
        "outputId": "c5816696-cef9-4638-fb3f-a200df7e9ba9"
      },
      "source": [
        "\"\"\"\n",
        "#%% sign function compatible with complex values\n",
        "def sgn(z):\n",
        "    if np.all(np.isreal(z)):\n",
        "        return np.sign(z)\n",
        "    return np.divide(z, np.abs(z))\n",
        "\n",
        "\n",
        "#%% soft thresholding function compatible with complex values\n",
        "def soft(z, th):\n",
        "    return sgn(z) * np.maximum(np.abs(z) - th, 0)\n",
        "\"\"\""
      ],
      "execution_count": 10,
      "outputs": [
        {
          "output_type": "execute_result",
          "data": {
            "text/plain": [
              "'\\n#%% sign function compatible with complex values\\ndef sgn(z):\\n    if np.all(np.isreal(z)):\\n        return np.sign(z)\\n    return np.divide(z, np.abs(z))\\n\\n\\n#%% soft thresholding function compatible with complex values\\ndef soft(z, th):\\n    return sgn(z) * np.maximum(np.abs(z) - th, 0)\\n'"
            ]
          },
          "metadata": {
            "tags": []
          },
          "execution_count": 10
        }
      ]
    },
    {
      "cell_type": "code",
      "metadata": {
        "id": "HjIa_rTaCScg",
        "colab_type": "code",
        "colab": {}
      },
      "source": [
        "#%% sign function compatible with complex values\n",
        "def sgn(z):\n",
        "    return torch.div(z, z.abs())\n",
        "\n",
        "#%% soft thresholding function compatible with complex values\n",
        "def f_softshrink(z, th):\n",
        "    return sgn(z) * torch.max(z.abs() - th, torch.tensor([0]).float())"
      ],
      "execution_count": 0,
      "outputs": []
    },
    {
      "cell_type": "code",
      "metadata": {
        "id": "VQp3NXVuaLTV",
        "colab_type": "code",
        "outputId": "a111fc41-7fb2-4f6f-9759-0cdee466b343",
        "colab": {
          "base_uri": "https://localhost:8080/",
          "height": 571
        }
      },
      "source": [
        "import torch\n",
        "import math\n",
        "import matplotlib.pyplot as plt\n",
        "#import torch_dct as tdct\n",
        "\n",
        "#b * cos(2 * pi * (1/x)) #(1/x) = f\n",
        "a = torch.arange(0, 10, 0.0005)\n",
        "b = torch.rand(20)\n",
        "x = torch.arange(0.2,20,0.2)\n",
        "y = 0\n",
        "for i in range(0,9):\n",
        "    y = y + b[i] * torch.cos(2 * math.pi * (1. /x[i]) * a) \n",
        "y[600] = y[600] + 2\n",
        "y_add_noise = y + torch.rand(20000)\n",
        "print(y)\n",
        "print(y.size())\n",
        "plt.subplot(3,1,1)\n",
        "plt.plot(a,y)\n",
        "plt.subplot(3,1,2)\n",
        "plt.plot(a,y_add_noise)\n",
        "#dcty = tdct.dct(y_add_noise)\n",
        "#idcty = tdct.idct(dcty)\n",
        "#idcty = tdct.idct(softm(dcty,0))\n",
        "#plt.plot(a,idcty)\n",
        "yfft = torch.rfft(y_add_noise,1)\n",
        "print(yfft)\n",
        "yfft = f_softshrink(yfft,100)\n",
        "print(yfft)\n",
        "yifft = torch.irfft(yfft,1,signal_sizes = y.shape)\n",
        "print(yifft)\n",
        "plt.subplot(3,1,3)\n",
        "plt.plot(a,yifft)"
      ],
      "execution_count": 12,
      "outputs": [
        {
          "output_type": "stream",
          "text": [
            "tensor([5.1288, 5.1287, 5.1285,  ..., 0.2917, 0.2922, 0.2927])\n",
            "torch.Size([20000])\n",
            "tensor([[10490.5254,     0.0000],\n",
            "        [  479.2758,   266.2749],\n",
            "        [  526.0557,   527.4125],\n",
            "        ...,\n",
            "        [  -40.3667,   -38.2451],\n",
            "        [   51.9443,   -32.8046],\n",
            "        [  -19.6016,     0.0000]])\n",
            "tensor([[10390.5254,        nan],\n",
            "        [  379.2758,   166.2749],\n",
            "        [  426.0557,   427.4125],\n",
            "        ...,\n",
            "        [   -0.0000,    -0.0000],\n",
            "        [    0.0000,    -0.0000],\n",
            "        [   -0.0000,        nan]])\n",
            "tensor([3.1124, 3.1521, 3.1949,  ..., 2.9888, 3.0285, 3.0682])\n"
          ],
          "name": "stdout"
        },
        {
          "output_type": "execute_result",
          "data": {
            "text/plain": [
              "[<matplotlib.lines.Line2D at 0x7f9920ec5a90>]"
            ]
          },
          "metadata": {
            "tags": []
          },
          "execution_count": 12
        },
        {
          "output_type": "display_data",
          "data": {
            "image/png": "[encoded data removed]",
            "text/plain": [
              "<Figure size 432x288 with 3 Axes>"
            ]
          },
          "metadata": {
            "tags": []
          }
        }
      ]
    },
    {
      "cell_type": "code",
      "metadata": {
        "id": "GdY985eXxABI",
        "colab_type": "code",
        "colab": {}
      },
      "source": [
        "import torch\n",
        "import numpy as np\n",
        "import math\n",
        "import matplotlib.pyplot as plt\n",
        "from time import time\n",
        "\n",
        "rng = np.random.RandomState(int(time()))\n",
        "\n",
        "n_samples = 400\n",
        "#m, n = 512, 2048\n",
        "m, n = 256,1024\n",
        "#m, n = 2000, 4000\n",
        "\n",
        "# generate k-sparse Gaussian signal vectors\n",
        "k = 50\n",
        "stdx = 1.\n",
        "snr = 10.\n",
        "support_range = np.arange(0, n)\n",
        "data = torch.arange(0, 10, 0.0005)\n",
        "g = torch.rand(20)\n",
        "frequency = torch.arange(0.2,20,0.2)\n",
        "y = torch.zeros((n_samples,data.size()[0]))\n",
        "\n",
        "input_data = np.zeros((n_samples, data.size()[0]))\n",
        "true = np.zeros((n_samples, data.size()[0]))\n",
        "output_data = np.zeros((n_samples, n))\n",
        "for sample in range(n_samples) :\n",
        "    T = rng.choice(20, 9, replace=False)\n",
        "\n",
        "    for i in range(0,9):\n",
        "        y[sample] = y[sample] + g[T[i]] * torch.cos(2 * math.pi * (1. /frequency[T[i]]) * data) \n",
        "    y_add_noise = y[sample] + torch.rand(20000)\n",
        "\n",
        "\n",
        "    '''\n",
        "    # add noise\n",
        "    normb = linalg.norm(b)\n",
        "    noise = rng.randn(m)\n",
        "    noise = noise / linalg.norm(noise) * normb / snr\n",
        "    b = b + noise\n",
        "    '''\n",
        "\n",
        "    input_data[sample, :] = y_add_noise\n",
        "    true[sample, :] = y[sample]\n"
      ],
      "execution_count": 0,
      "outputs": []
    },
    {
      "cell_type": "code",
      "metadata": {
        "id": "sThpvYull58Y",
        "colab_type": "code",
        "colab": {}
      },
      "source": [
        "import torch\n",
        "# soft thresholding function\n",
        "def soft(z, th):\n",
        "    return torch.sign(z) * torch.max(torch.abs(z) - th, 0)\n",
        "\n",
        "from scipy import linalg\n",
        "# Iterative soft thresholding (IST)\n",
        "def ISTA(A, b, tol=1e-5, maxiter=300, l=1., L=None):\n",
        "    m, n = A.size() #Aの行をm、列をnに\n",
        "    x = torch.zeros(n) #nのゼロ埋め\n",
        "    r = b.copy() #r求めたい\n",
        "    if L is None:    # roughly estimate the Lipschitz constant\n",
        "        L = 2*linalg.norm(A.dot(A.T.dot(b))) / linalg.norm(b)\n",
        "    count = 0\n",
        "    cost_history = []\n",
        "    normr = linalg.norm(r)\n",
        "    while count < maxiter and normr > tol:\n",
        "        count += 1\n",
        "        x = soft(x + A.T.dot(r) / L, l/L)\n",
        "        r = b - A.dot(x)\n",
        "        normr = linalg.norm(r)\n",
        "        cost_history.append( normr*normr + l*np.sum(np.abs(x)) )\n",
        "    return x, cost_history"
      ],
      "execution_count": 0,
      "outputs": []
    },
    {
      "cell_type": "code",
      "metadata": {
        "colab_type": "code",
        "outputId": "2f76fa13-7af9-42c7-ff3a-4cb3d63c4483",
        "id": "1PTSJ2ih7BZV",
        "colab": {
          "base_uri": "https://localhost:8080/",
          "height": 403
        }
      },
      "source": [
        "import torch\n",
        "import math\n",
        "import matplotlib.pyplot as plt\n",
        "from pytorch_wavelets import DWTForward, DWTInverse\n",
        "import torch_dct as tdct\n",
        "\n",
        "maxnum = 10\n",
        "#b * cos(2 * pi * (1/x)) #(1/x) = f\n",
        "a = torch.arange(0, 10, 0.0005)\n",
        "b = torch.rand(maxnum)\n",
        "x = torch.arange(0.2,maxnum,0.2)\n",
        "y = 0\n",
        "for i in range(0,maxnum):\n",
        "    y = y + b[i] * torch.cos(2 * math.pi * (1. /x[i]) * a) \n",
        "y[600] = y[600] + 5\n",
        "y_add_noise = y + torch.rand(20000)\n",
        "print(y)\n",
        "print(y.size())\n",
        "plt.subplot(5,1,1)\n",
        "plt.plot(a,y)\n",
        "plt.subplot(5,1,2)\n",
        "plt.plot(a,y_add_noise)\n",
        "\n",
        "wty = DWTForward(J=3, wave=\"db10\", mode='zero')\n",
        "iwty = DWTInverse(wave=\"db10\", mode='zero')\n",
        "Yl, Yh = wty(y_add_noise.view(1,1,1,y.size()[0]))\n",
        "Yh = [softm(x,100) for x in Yh]\n",
        "iwtyy = iwty((Yl,Yh))\n",
        "print(iwtyy)\n",
        "plt.subplot(5,1,3)\n",
        "plt.plot(a,iwtyy[0][0][0])\n",
        "\n",
        "dcty = tdct.dct(y_add_noise)\n",
        "dcty = softm(dcty,200)\n",
        "idcty = tdct.idct(dcty)\n",
        "plt.subplot(5,1,4)\n",
        "plt.plot(a,idcty)\n",
        "print(idcty)\n",
        "\n",
        "yfft = torch.rfft(y_add_noise,1)\n",
        "yfft = f_softshrink(yfft,200)\n",
        "yifft = torch.irfft(yfft,1,signal_sizes = y.shape)\n",
        "print(yifft)\n",
        "plt.subplot(5,1,5)\n",
        "plt.plot(a,yifft)\n",
        "\n",
        "print(torch.abs((y - idcty).sum()))\n",
        "print(torch.abs((y - yifft).sum()))"
      ],
      "execution_count": 15,
      "outputs": [
        {
          "output_type": "stream",
          "text": [
            "tensor([5.1089, 5.1088, 5.1085,  ..., 0.9267, 0.9258, 0.9248])\n",
            "torch.Size([20000])\n",
            "tensor([[[[0.3229, 0.4112, 0.4989,  ..., 0.1240, 0.1078, 0.0897],\n",
            "          [0.2906, 0.3701, 0.4490,  ..., 0.1116, 0.0970, 0.0808]]]])\n",
            "tensor([5.5465, 5.5439, 5.5442,  ..., 1.4028, 1.3996, 1.3992])\n",
            "tensor([3.3987, 3.4125, 3.4262,  ..., 3.3565, 3.3708, 3.3848])\n",
            "tensor(9846.1133)\n",
            "tensor(9746.1133)\n"
          ],
          "name": "stdout"
        },
        {
          "output_type": "display_data",
          "data": {
            "image/png": "[encoded data removed]",
            "text/plain": [
              "<Figure size 432x288 with 5 Axes>"
            ]
          },
          "metadata": {
            "tags": []
          }
        }
      ]
    },
    {
      "cell_type": "code",
      "metadata": {
        "id": "BaqxRMlnR4S3",
        "colab_type": "code",
        "colab": {
          "base_uri": "https://localhost:8080/",
          "height": 170
        },
        "outputId": "36cd89eb-1cb4-4e91-e24c-62fc06ad9d5c"
      },
      "source": [
        "import numpy as np\n",
        "import torch\n",
        "\n",
        "a = np.array([1,2,3])\n",
        "print(a)\n",
        "print(a.shape)\n",
        "b = a.reshape(1,1,1,3)\n",
        "print(b)\n",
        "print(b.shape)\n",
        "c = a[np.newaxis,np.newaxis,np.newaxis,:]\n",
        "print(c)\n",
        "print(c.shape)\n",
        "\n",
        "A = torch.tensor([1.2,2.2,3.2])\n",
        "print(A,A.shape)\n",
        "B = A.reshape(-1,1,1,A.size()[0])\n",
        "print(B,B.shape)\n",
        "print(type(A))"
      ],
      "execution_count": 19,
      "outputs": [
        {
          "output_type": "stream",
          "text": [
            "[1 2 3]\n",
            "(3,)\n",
            "[[[[1 2 3]]]]\n",
            "(1, 1, 1, 3)\n",
            "[[[[1 2 3]]]]\n",
            "(1, 1, 1, 3)\n",
            "tensor([1.2000, 2.2000, 3.2000]) torch.Size([3])\n",
            "tensor([[[[1.2000, 2.2000, 3.2000]]]]) torch.Size([1, 1, 1, 3])\n",
            "<class 'torch.Tensor'>\n"
          ],
          "name": "stdout"
        }
      ]
    }
  ]
}