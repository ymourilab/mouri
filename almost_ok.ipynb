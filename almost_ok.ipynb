{
  "nbformat": 4,
  "nbformat_minor": 0,
  "metadata": {
    "colab": {
      "name": "almost_ok.ipynb",
      "provenance": [],
      "collapsed_sections": [],
      "include_colab_link": true
    },
    "kernelspec": {
      "name": "python3",
      "display_name": "Python 3"
    },
    "accelerator": "GPU"
  },
  "cells": [
    {
      "cell_type": "markdown",
      "metadata": {
        "id": "view-in-github",
        "colab_type": "text"
      },
      "source": [
        "<a href=\"https://colab.research.google.com/github/ymourilab/mouri/blob/master/almost_ok.ipynb\" target=\"_parent\"><img src=\"https://colab.research.google.com/assets/colab-badge.svg\" alt=\"Open In Colab\"/></a>"
      ]
    },
    {
      "cell_type": "code",
      "metadata": {
        "id": "Vx0XjR2V5oQa",
        "colab_type": "code",
        "outputId": "665edda6-b4ca-4f28-945e-a6d962e6e729",
        "colab": {
          "base_uri": "https://localhost:8080/",
          "height": 289
        }
      },
      "source": [
        "!git clone https://github.com/fbcotter/pytorch_wavelets\n",
        "!pip install ./pytorch_wavelets/."
      ],
      "execution_count": 1,
      "outputs": [
        {
          "output_type": "stream",
          "text": [
            "Cloning into 'pytorch_wavelets'...\n",
            "remote: Enumerating objects: 836, done.\u001b[K\n",
            "remote: Total 836 (delta 0), reused 0 (delta 0), pack-reused 836\u001b[K\n",
            "Receiving objects: 100% (836/836), 6.67 MiB | 5.24 MiB/s, done.\n",
            "Resolving deltas: 100% (584/584), done.\n",
            "Processing ./pytorch_wavelets\n",
            "Requirement already satisfied: numpy in /usr/local/lib/python3.6/dist-packages (from pytorch-wavelets==1.1.0) (1.17.5)\n",
            "Requirement already satisfied: six in /usr/local/lib/python3.6/dist-packages (from pytorch-wavelets==1.1.0) (1.12.0)\n",
            "Requirement already satisfied: torch in /usr/local/lib/python3.6/dist-packages (from pytorch-wavelets==1.1.0) (1.3.1)\n",
            "Building wheels for collected packages: pytorch-wavelets\n",
            "  Building wheel for pytorch-wavelets (setup.py) ... \u001b[?25l\u001b[?25hdone\n",
            "  Created wheel for pytorch-wavelets: filename=pytorch_wavelets-1.1.0-cp36-none-any.whl size=46100 sha256=8863d67f7603a581231f646743f291b1fa1673f7b735af142ef9f6862e0e8626\n",
            "  Stored in directory: /tmp/pip-ephem-wheel-cache-i_h0o_bv/wheels/82/e1/5b/16a4e6ccfc0bb2ce14bd2796adb13e6e9b718cb7d2e1ae3643\n",
            "Successfully built pytorch-wavelets\n",
            "Installing collected packages: pytorch-wavelets\n",
            "Successfully installed pytorch-wavelets-1.1.0\n"
          ],
          "name": "stdout"
        }
      ]
    },
    {
      "cell_type": "code",
      "metadata": {
        "id": "raA6CcvL519a",
        "colab_type": "code",
        "outputId": "0731fdab-22c8-436c-8898-a0b9f941af27",
        "colab": {
          "base_uri": "https://localhost:8080/",
          "height": 289
        }
      },
      "source": [
        "!git clone https://github.com/zh217/torch-dct\n",
        "!pip install ./torch-dct/."
      ],
      "execution_count": 2,
      "outputs": [
        {
          "output_type": "stream",
          "text": [
            "Cloning into 'torch-dct'...\n",
            "remote: Enumerating objects: 1, done.\u001b[K\n",
            "remote: Counting objects: 100% (1/1)\u001b[K\rremote: Counting objects: 100% (1/1), done.\u001b[K\n",
            "Receiving objects:   0% (1/108)   \rReceiving objects:   1% (2/108)   \rReceiving objects:   2% (3/108)   \rReceiving objects:   3% (4/108)   \rReceiving objects:   4% (5/108)   \rReceiving objects:   5% (6/108)   \rReceiving objects:   6% (7/108)   \rReceiving objects:   7% (8/108)   \rReceiving objects:   8% (9/108)   \rReceiving objects:   9% (10/108)   \rReceiving objects:  10% (11/108)   \rReceiving objects:  11% (12/108)   \rReceiving objects:  12% (13/108)   \rReceiving objects:  13% (15/108)   \rReceiving objects:  14% (16/108)   \rReceiving objects:  15% (17/108)   \rReceiving objects:  16% (18/108)   \rReceiving objects:  17% (19/108)   \rReceiving objects:  18% (20/108)   \rReceiving objects:  19% (21/108)   \rReceiving objects:  20% (22/108)   \rReceiving objects:  21% (23/108)   \rReceiving objects:  22% (24/108)   \rReceiving objects:  23% (25/108)   \rReceiving objects:  24% (26/108)   \rReceiving objects:  25% (27/108)   \rReceiving objects:  26% (29/108)   \rReceiving objects:  27% (30/108)   \rremote: Total 108 (delta 0), reused 0 (delta 0), pack-reused 107\u001b[K\n",
            "Receiving objects:  28% (31/108)   \rReceiving objects:  29% (32/108)   \rReceiving objects:  30% (33/108)   \rReceiving objects:  31% (34/108)   \rReceiving objects:  32% (35/108)   \rReceiving objects:  33% (36/108)   \rReceiving objects:  34% (37/108)   \rReceiving objects:  35% (38/108)   \rReceiving objects:  36% (39/108)   \rReceiving objects:  37% (40/108)   \rReceiving objects:  38% (42/108)   \rReceiving objects:  39% (43/108)   \rReceiving objects:  40% (44/108)   \rReceiving objects:  41% (45/108)   \rReceiving objects:  42% (46/108)   \rReceiving objects:  43% (47/108)   \rReceiving objects:  44% (48/108)   \rReceiving objects:  45% (49/108)   \rReceiving objects:  46% (50/108)   \rReceiving objects:  47% (51/108)   \rReceiving objects:  48% (52/108)   \rReceiving objects:  49% (53/108)   \rReceiving objects:  50% (54/108)   \rReceiving objects:  51% (56/108)   \rReceiving objects:  52% (57/108)   \rReceiving objects:  53% (58/108)   \rReceiving objects:  54% (59/108)   \rReceiving objects:  55% (60/108)   \rReceiving objects:  56% (61/108)   \rReceiving objects:  57% (62/108)   \rReceiving objects:  58% (63/108)   \rReceiving objects:  59% (64/108)   \rReceiving objects:  60% (65/108)   \rReceiving objects:  61% (66/108)   \rReceiving objects:  62% (67/108)   \rReceiving objects:  63% (69/108)   \rReceiving objects:  64% (70/108)   \rReceiving objects:  65% (71/108)   \rReceiving objects:  66% (72/108)   \rReceiving objects:  67% (73/108)   \rReceiving objects:  68% (74/108)   \rReceiving objects:  69% (75/108)   \rReceiving objects:  70% (76/108)   \rReceiving objects:  71% (77/108)   \rReceiving objects:  72% (78/108)   \rReceiving objects:  73% (79/108)   \rReceiving objects:  74% (80/108)   \rReceiving objects:  75% (81/108)   \rReceiving objects:  76% (83/108)   \rReceiving objects:  77% (84/108)   \rReceiving objects:  78% (85/108)   \rReceiving objects:  79% (86/108)   \rReceiving objects:  80% (87/108)   \rReceiving objects:  81% (88/108)   \rReceiving objects:  82% (89/108)   \rReceiving objects:  83% (90/108)   \rReceiving objects:  84% (91/108)   \rReceiving objects:  85% (92/108)   \rReceiving objects:  86% (93/108)   \rReceiving objects:  87% (94/108)   \rReceiving objects:  88% (96/108)   \rReceiving objects:  89% (97/108)   \rReceiving objects:  90% (98/108)   \rReceiving objects:  91% (99/108)   \rReceiving objects:  92% (100/108)   \rReceiving objects:  93% (101/108)   \rReceiving objects:  94% (102/108)   \rReceiving objects:  95% (103/108)   \rReceiving objects:  96% (104/108)   \rReceiving objects:  97% (105/108)   \rReceiving objects:  98% (106/108)   \rReceiving objects:  99% (107/108)   \rReceiving objects: 100% (108/108)   \rReceiving objects: 100% (108/108), 20.64 KiB | 587.00 KiB/s, done.\n",
            "Resolving deltas:   0% (0/47)   \rResolving deltas:  10% (5/47)   \rResolving deltas:  29% (14/47)   \rResolving deltas:  34% (16/47)   \rResolving deltas:  36% (17/47)   \rResolving deltas:  38% (18/47)   \rResolving deltas:  61% (29/47)   \rResolving deltas:  82% (39/47)   \rResolving deltas:  85% (40/47)   \rResolving deltas: 100% (47/47)   \rResolving deltas: 100% (47/47), done.\n",
            "Processing ./torch-dct\n",
            "Requirement already satisfied: torch>=0.4.1 in /usr/local/lib/python3.6/dist-packages (from torch-dct==0.1.5) (1.3.1)\n",
            "Requirement already satisfied: numpy in /usr/local/lib/python3.6/dist-packages (from torch>=0.4.1->torch-dct==0.1.5) (1.17.5)\n",
            "Building wheels for collected packages: torch-dct\n",
            "  Building wheel for torch-dct (setup.py) ... \u001b[?25l\u001b[?25hdone\n",
            "  Created wheel for torch-dct: filename=torch_dct-0.1.5-cp36-none-any.whl size=4997 sha256=29b353449bf5110401b959c079c0fbbe3fa028de6ce7dc9213e271e19385901f\n",
            "  Stored in directory: /root/.cache/pip/wheels/54/af/7d/bfc942607a03ab314a2c757dae2f27d25d9698e9ed106890ed\n",
            "Successfully built torch-dct\n",
            "Installing collected packages: torch-dct\n",
            "Successfully installed torch-dct-0.1.5\n"
          ],
          "name": "stdout"
        }
      ]
    },
    {
      "cell_type": "code",
      "metadata": {
        "id": "KLB8x7Q2QB9j",
        "colab_type": "code",
        "outputId": "9158b3c0-8dca-44ee-9046-a0218bd763ab",
        "colab": {
          "base_uri": "https://localhost:8080/",
          "height": 122
        }
      },
      "source": [
        "from google.colab import drive\n",
        "drive.mount('/content/gdrive')"
      ],
      "execution_count": 3,
      "outputs": [
        {
          "output_type": "stream",
          "text": [
            "Go to this URL in a browser: https://accounts.google.com/o/oauth2/auth?client_id=947318989803-6bn6qk8qdgf4n4g3pfee6491hc0brc4i.apps.googleusercontent.com&redirect_uri=urn%3aietf%3awg%3aoauth%3a2.0%3aoob&response_type=code&scope=email%20https%3a%2f%2fwww.googleapis.com%2fauth%2fdocs.test%20https%3a%2f%2fwww.googleapis.com%2fauth%2fdrive%20https%3a%2f%2fwww.googleapis.com%2fauth%2fdrive.photos.readonly%20https%3a%2f%2fwww.googleapis.com%2fauth%2fpeopleapi.readonly\n",
            "\n",
            "Enter your authorization code:\n",
            "··········\n",
            "Mounted at /content/gdrive\n"
          ],
          "name": "stdout"
        }
      ]
    },
    {
      "cell_type": "code",
      "metadata": {
        "id": "H0pZTs5eQI93",
        "colab_type": "code",
        "outputId": "ce122a49-dfcc-494b-a8ce-0075661f587d",
        "colab": {
          "base_uri": "https://localhost:8080/",
          "height": 119
        }
      },
      "source": [
        "%ls gdrive/My\\ Drive/mouri"
      ],
      "execution_count": 4,
      "outputs": [
        {
          "output_type": "stream",
          "text": [
            "almost_ok.ipynb     ok.ipynb                         uista.ipynb\n",
            "\u001b[0m\u001b[01;34mcloned-repo\u001b[0m/        sample_F.wav                     Untitled0.ipynb\n",
            "coa_5k_F.wav        sample.wav                       卒研用.gdoc\n",
            "coa_5k.wav          sample_W.wav                     \u001b[01;34m打ち合わせ資料\u001b[0m/\n",
            "coa_5k_W.wav        test_dct_wavelet.ipynb           毛利卒論.gdoc\n",
            "\u001b[01;34mHaion_recognition\u001b[0m/  try_uISTA_for_lung_sounds.ipynb\n"
          ],
          "name": "stdout"
        }
      ]
    },
    {
      "cell_type": "code",
      "metadata": {
        "id": "due82XR-a5mP",
        "colab_type": "code",
        "outputId": "64c5e502-dca8-4917-f1ac-64b6390c2111",
        "colab": {
          "base_uri": "https://localhost:8080/",
          "height": 68
        }
      },
      "source": [
        "import torch\n",
        "torch.set_default_tensor_type(torch.cuda.FloatTensor)\n",
        "print(torch.__version__)\n",
        "print(torch.cuda.is_available())\n",
        "device = torch.device(\"cuda\" if torch.cuda.is_available() else \"cpu\")\n",
        "print(device)"
      ],
      "execution_count": 5,
      "outputs": [
        {
          "output_type": "stream",
          "text": [
            "1.3.1\n",
            "True\n",
            "cuda\n"
          ],
          "name": "stdout"
        }
      ]
    },
    {
      "cell_type": "code",
      "metadata": {
        "id": "9VTbHAYpOJV1",
        "colab_type": "code",
        "outputId": "d0d6d5c2-71ef-405d-d69f-663730a0705b",
        "colab": {
          "base_uri": "https://localhost:8080/",
          "height": 54
        }
      },
      "source": [
        "import torch_dct as tdct\n",
        "from pytorch_wavelets import DWTForward, DWTInverse\n",
        "import torch\n",
        "\n",
        "class uISTA(torch.nn.Module):\n",
        "\n",
        "    def __init__(self, num_unroll, l=1.0, w_l=1., scale=1., prox=None, wt=None, iwt=None):\n",
        "        super(uISTA, self).__init__()\n",
        "        self.num_unroll = num_unroll #unroll回数\n",
        "        #self.A = torch.nn.Parameter(torch.FloatTensor(A), requires_grad=True)#fhみたいなのに変更する\n",
        "        self.l = torch.nn.Parameter(torch.FloatTensor([l]), requires_grad=True).to(device=device)#なんか配列作ってる多分なんかの計算用theta\n",
        "        self.l = self.l * self.l\n",
        "        self.w_l = torch.nn.Parameter(torch.FloatTensor([w_l]), requires_grad=True).to(device=device)#なんか配列作ってる多分なんかの計算用theta\n",
        "        self.w_l = self.w_l * self.w_l\n",
        "        print(\"l\",self.l.type(),self.l.size(),self.l)\n",
        "        self.scale = scale#thetaの計算に使ってる\n",
        "        print(self.scale)\n",
        "        print(device)\n",
        "        if prox is None:\n",
        "            self.prox = lambda z, th: z.sign() * (z.abs_() - th).max(torch.tensor(0, device=device).float())\n",
        "            #zの値を0か負(=-1)か正(=1)か判定したやつとsoft閾値処理したやつの乗算\n",
        "        else:\n",
        "            self.prox = prox\n",
        "\n",
        "        if wt is None:\n",
        "            self.wt = DWTForward(J=3,wave='db10',mode='zero')\n",
        "        else:\n",
        "            self.wt = wt\n",
        "\n",
        "        if iwt is None:\n",
        "            self.iwt = DWTInverse(wave='db10', mode='zero')\n",
        "        else:\n",
        "            self.iwt = iwt\n",
        "\n",
        "    def forward(self, b):\n",
        "        theta = torch.mul(self.l, self.scale)#lの要素をscale倍するらしい\n",
        "        w_theta = torch.mul(self.w_l, self.scale).div(100)\n",
        "        print(\"w_theta\",w_theta.type(),w_theta.size(),w_theta)\n",
        "        # prox(A.dot(b*scale), theta) for initial guess of x xの初期値を決めるよ\n",
        "        #x = self.prox(b.mul(self.scale).matmul(self.A), theta)    #matmulをidctにidwtに\n",
        "        #x = self.prox(self.tidct(b.mul_(self.scale)), theta)\n",
        "        x = self.prox(self.tdct(b.mul_(self.scale)), theta)\n",
        "        plt.subplot(3,1,1)\n",
        "        plt.plot(torch.arange(0,len(x[0])).cpu(),x[0].cpu().detach().numpy())\n",
        "        print(1111111)\n",
        "        #coeffs = self.dwt(b.reshape(1,1,1,-1))\n",
        "        w = self.w_softshrink(self.dwt(b.reshape(b.size()[0],1,1,-1)), w_theta)\n",
        "        plt.subplot(3,1,2)\n",
        "        plt.plot(torch.arange(0,w[0].size()[3]).cpu(),w[0][0][0][0].cpu().detach().numpy())\n",
        "        print(\"理想\",type(w),self.dwt(b.reshape(b.size()[0],1,1,-1))[0].size())\n",
        "        print(\"b\",type(b),b.size(),b.size()[0])\n",
        "        print(\"w[0]\",w[0].size(),\"1\",[i.size() for i in w[1]])\n",
        "        #self.dwt(w)[0].mul_(self.scale),[i.mul_(self.scale)for i in self.dwt(w)[1]])\n",
        "        #w = self.w_softshrink(self.idwt(self.idwt(self.dwt(b.reshape(1,1,1,-1)))), theta)\n",
        "        #w = torch.zeros(1,1,1,len(b[0]))\n",
        "        #w = b.reshape(b.size()[0],1,1,-1)\n",
        "        #print(x.size(),w.size())\n",
        "        for i in range(self.num_unroll):\n",
        "            #x = prox(x+A.T.dot(b-A.dot(x))*scale, theta) ISTAの繰り返し部分\n",
        "            #x = soft(x + AT(b - Ax))scale\n",
        "            #x = self.prox(x + (b - x.matmul(self.A.t())).mul_(self.scale).matmul(self.A), theta)\n",
        "            #x = self.prox(x + r.mul_(self.scale).matmul(self.A), theta)  r = b-Ax\n",
        "            #x = self.prox(x + At(r*scale), theta)\n",
        "            x = self.prox(x + self.tdct(b - self.tidct(x)).mul_(self.scale), theta)\n",
        "            print(i)\n",
        "            print('after f')\n",
        "            print(\"w\",w[0].shape,[i.shape for i in w[1]])\n",
        "            print(\"ato\")\n",
        "            #[x * y for (x, y) in zip(li1, li2)]\n",
        "            #+ self.dwt(b.reshape(b.size()[0],1,1,-1) - self.idwt(w).mul_(self.scale))[0],\\\n",
        "            w = self.w_softshrink((w[0] \\\n",
        "                                   ,[v - u.mul_(self.scale) for (v, u) in zip(w[1], self.dwt(b.reshape(b.size()[0],1,1,-1) - self.idwt(w))[1])]), w_theta)\n",
        "            print(\"koeta\")\n",
        "        return x,w\n",
        "\n",
        "    #関数AとATのかわり\n",
        "    def tdct(self,x):\n",
        "        return tdct.dct(x)\n",
        "    \n",
        "    def tidct(self,x):\n",
        "        return tdct.idct(x)\n",
        "\n",
        "    def dwt(self,x):\n",
        "        return self.wt(x)\n",
        "\n",
        "    def idwt(self,x):\n",
        "        return self.iwt((x[0],x[1]))\n",
        "\n",
        "    def w_softshrink(self,x,th):\n",
        "        print(\"soft\",type(x),x[0].size())\n",
        "        return self.prox(x[0],th),[self.prox(i,th) for i in x[1]]\n",
        "\n",
        "#    def add_b_iwt(self,x,b):\n",
        "#        for i in range(x[0].size()[0]):\n",
        "#            b[i][0][0] - self.idwt(w)[i][0][0].mul_(self.scale)\n",
        "#        return x\n",
        "\"\"\"\n",
        "    #%% sign function compatible with complex values\n",
        "    def sgn(z):\n",
        "        return torch.div(z, z.abs())\n",
        "\n",
        "    #%% soft thresholding function compatible with complex values\n",
        "    def f_softshrink(z, th):\n",
        "        return sgn(z) * torch.max(z.abs() - th, torch.tensor([0]).float())\n",
        "        \"\"\""
      ],
      "execution_count": 17,
      "outputs": [
        {
          "output_type": "execute_result",
          "data": {
            "text/plain": [
              "'\\n    #%% sign function compatible with complex values\\n    def sgn(z):\\n        return torch.div(z, z.abs())\\n\\n    #%% soft thresholding function compatible with complex values\\n    def f_softshrink(z, th):\\n        return sgn(z) * torch.max(z.abs() - th, torch.tensor([0]).float())\\n        '"
            ]
          },
          "metadata": {
            "tags": []
          },
          "execution_count": 17
        }
      ]
    },
    {
      "cell_type": "code",
      "metadata": {
        "colab_type": "code",
        "id": "cB0iznR5E53h",
        "colab": {}
      },
      "source": [
        "softm = lambda z, th: z.sign() * torch.max(z.abs() - th, torch.tensor([0]).float())"
      ],
      "execution_count": 0,
      "outputs": []
    },
    {
      "cell_type": "code",
      "metadata": {
        "id": "oo-ePloiSRfA",
        "colab_type": "code",
        "colab": {}
      },
      "source": [
        "def read_file(filename):\n",
        "    #read\n",
        "    if os.path.exists(filename + '.wav') == False:\n",
        "        Fs, input_data  = swf.read(filename + '.WAV')\n",
        "    else:\n",
        "        Fs, data = swf.read(filename + '.wav')\n",
        "    \n",
        "    #normalize between -1 and 1, change dtype double\n",
        "    data = data.astype(np.float64)\n",
        "    plt.subplot(3,1,1)\n",
        "    plt.plot(np.arange(0,len(data)),data)\n",
        "    data = data / 32768.0\n",
        "    print(Fs)\n",
        "    print(data.shape)\n",
        "    #plt.subplot(3,1,2)\n",
        "    #plt.plot(np.arange(0,len(data)),data)\n",
        "    return Fs,data"
      ],
      "execution_count": 0,
      "outputs": []
    },
    {
      "cell_type": "code",
      "metadata": {
        "id": "GdY985eXxABI",
        "colab_type": "code",
        "outputId": "73093f74-0f7b-441e-bcc5-a79ef8521e76",
        "colab": {
          "base_uri": "https://localhost:8080/",
          "height": 149
        }
      },
      "source": [
        "import torch\n",
        "import numpy as np\n",
        "import math\n",
        "import matplotlib.pyplot as plt\n",
        "from time import time\n",
        "import os\n",
        "import scipy.io.wavfile as swf\n",
        "\n",
        "a = read_file('./gdrive/My Drive/mouri/coa_5k')[1]\n",
        "a = np.concatenate((a,np.zeros(262144-len(a))),axis=0)\n",
        "data = torch.arange(0,len(a))"
      ],
      "execution_count": 20,
      "outputs": [
        {
          "output_type": "stream",
          "text": [
            "5000\n",
            "(237333,)\n"
          ],
          "name": "stdout"
        },
        {
          "output_type": "display_data",
          "data": {
            "image/png": "[encoded data removed]",
            "text/plain": [
              "<Figure size 432x288 with 1 Axes>"
            ]
          },
          "metadata": {
            "tags": []
          }
        }
      ]
    },
    {
      "cell_type": "code",
      "metadata": {
        "id": "_-MyiAatUJ7h",
        "colab_type": "code",
        "outputId": "7db748a0-1870-4d5b-c2c5-ffc241685f67",
        "colab": {
          "base_uri": "https://localhost:8080/",
          "height": 51
        }
      },
      "source": [
        "input_data = torch.from_numpy(a).view(1,-1)\n",
        "print(input_data.size())\n",
        "print(type(input_data))\n"
      ],
      "execution_count": 21,
      "outputs": [
        {
          "output_type": "stream",
          "text": [
            "torch.Size([1, 262144])\n",
            "<class 'torch.Tensor'>\n"
          ],
          "name": "stdout"
        }
      ]
    },
    {
      "cell_type": "code",
      "metadata": {
        "id": "hUy4R7lBdUYB",
        "colab_type": "code",
        "outputId": "02e765c9-82cb-41d7-a220-ba15a4532dcd",
        "colab": {
          "base_uri": "https://localhost:8080/",
          "height": 277
        }
      },
      "source": [
        "input_data = torch.tensor(input_data, dtype=torch.float).to(device=device)\n",
        "print(input_data.size())\n",
        "x = tdct.dct(input_data)\n",
        "plt.subplot(3,1,1)\n",
        "plt.plot(torch.arange(0,len(x[0])).cpu(),x[0].cpu().detach().numpy())\n",
        "wt = DWTForward(J=3,wave='db10',mode='zero')\n",
        "w = wt(input_data.reshape(input_data.size()[0],1,1,-1))\n",
        "plt.subplot(3,1,2)\n",
        "plt.plot(torch.arange(0,w[0].size()[3]).cpu(),w[0][0][0][0].cpu().detach().numpy())\n",
        "#true"
      ],
      "execution_count": 22,
      "outputs": [
        {
          "output_type": "stream",
          "text": [
            "torch.Size([1, 262144])\n"
          ],
          "name": "stdout"
        },
        {
          "output_type": "stream",
          "text": [
            "/usr/local/lib/python3.6/dist-packages/ipykernel_launcher.py:1: UserWarning: To copy construct from a tensor, it is recommended to use sourceTensor.clone().detach() or sourceTensor.clone().detach().requires_grad_(True), rather than torch.tensor(sourceTensor).\n",
            "  \"\"\"Entry point for launching an IPython kernel.\n"
          ],
          "name": "stderr"
        },
        {
          "output_type": "execute_result",
          "data": {
            "text/plain": [
              "[<matplotlib.lines.Line2D at 0x7fd6e01c51d0>]"
            ]
          },
          "metadata": {
            "tags": []
          },
          "execution_count": 22
        },
        {
          "output_type": "display_data",
          "data": {
            "image/png": "[encoded data removed]",
            "text/plain": [
              "<Figure size 432x288 with 2 Axes>"
            ]
          },
          "metadata": {
            "tags": []
          }
        }
      ]
    },
    {
      "cell_type": "code",
      "metadata": {
        "id": "rRIS8wBGeIZ4",
        "colab_type": "code",
        "outputId": "5f95460a-ba5f-4814-e8cb-08b8f0fbb9c2",
        "colab": {
          "base_uri": "https://localhost:8080/",
          "height": 102
        }
      },
      "source": [
        "model = uISTA(40).to(device=device)\n",
        "model.cuda()\n",
        "print(model.named_parameters())\n",
        "print(model.parameters())"
      ],
      "execution_count": 23,
      "outputs": [
        {
          "output_type": "stream",
          "text": [
            "l torch.cuda.FloatTensor torch.Size([1]) tensor([1.], grad_fn=<MulBackward0>)\n",
            "1.0\n",
            "cuda\n",
            "<generator object Module.named_parameters at 0x7fd6e01ef518>\n",
            "<generator object Module.parameters at 0x7fd6e01ef518>\n"
          ],
          "name": "stdout"
        }
      ]
    },
    {
      "cell_type": "code",
      "metadata": {
        "id": "ZO8c874X5fYp",
        "colab_type": "code",
        "outputId": "be7ec821-3c23-4cec-b05a-8d82a05c919b",
        "colab": {
          "base_uri": "https://localhost:8080/",
          "height": 170
        }
      },
      "source": [
        "print('Is model parameters on GPU? :', next(model.parameters()).is_cuda)\n",
        "for param in model.parameters():\n",
        "    print(type(param.data), param.size(), ', is_cuda:', param.is_cuda)"
      ],
      "execution_count": 24,
      "outputs": [
        {
          "output_type": "stream",
          "text": [
            "Is model parameters on GPU? : True\n",
            "<class 'torch.Tensor'> torch.Size([1, 1, 20, 1]) , is_cuda: True\n",
            "<class 'torch.Tensor'> torch.Size([1, 1, 20, 1]) , is_cuda: True\n",
            "<class 'torch.Tensor'> torch.Size([1, 1, 1, 20]) , is_cuda: True\n",
            "<class 'torch.Tensor'> torch.Size([1, 1, 1, 20]) , is_cuda: True\n",
            "<class 'torch.Tensor'> torch.Size([1, 1, 20, 1]) , is_cuda: True\n",
            "<class 'torch.Tensor'> torch.Size([1, 1, 20, 1]) , is_cuda: True\n",
            "<class 'torch.Tensor'> torch.Size([1, 1, 1, 20]) , is_cuda: True\n",
            "<class 'torch.Tensor'> torch.Size([1, 1, 1, 20]) , is_cuda: True\n"
          ],
          "name": "stdout"
        }
      ]
    },
    {
      "cell_type": "code",
      "metadata": {
        "id": "kdNnG5JGfJcL",
        "colab_type": "code",
        "outputId": "1834718e-4905-4870-af11-5b08fca5e3a2",
        "colab": {
          "base_uri": "https://localhost:8080/",
          "height": 456
        }
      },
      "source": [
        "model_out = model.forward(input_data)"
      ],
      "execution_count": 25,
      "outputs": [
        {
          "output_type": "stream",
          "text": [
            "w_theta torch.cuda.FloatTensor torch.Size([1]) tensor([0.0100], grad_fn=<DivBackward0>)\n",
            "1111111\n",
            "soft <class 'tuple'> torch.Size([1, 1, 16, 32784])\n"
          ],
          "name": "stdout"
        },
        {
          "output_type": "error",
          "ename": "RuntimeError",
          "evalue": "ignored",
          "traceback": [
            "\u001b[0;31m---------------------------------------------------------------------------\u001b[0m",
            "\u001b[0;31mRuntimeError\u001b[0m                              Traceback (most recent call last)",
            "\u001b[0;32m<ipython-input-25-e014b3fd954b>\u001b[0m in \u001b[0;36m<module>\u001b[0;34m()\u001b[0m\n\u001b[0;32m----> 1\u001b[0;31m \u001b[0mmodel_out\u001b[0m \u001b[0;34m=\u001b[0m \u001b[0mmodel\u001b[0m\u001b[0;34m.\u001b[0m\u001b[0mforward\u001b[0m\u001b[0;34m(\u001b[0m\u001b[0minput_data\u001b[0m\u001b[0;34m)\u001b[0m\u001b[0;34m\u001b[0m\u001b[0;34m\u001b[0m\u001b[0m\n\u001b[0m",
            "\u001b[0;32m<ipython-input-17-a7109da75573>\u001b[0m in \u001b[0;36mforward\u001b[0;34m(self, b)\u001b[0m\n\u001b[1;32m     45\u001b[0m         \u001b[0mprint\u001b[0m\u001b[0;34m(\u001b[0m\u001b[0;36m1111111\u001b[0m\u001b[0;34m)\u001b[0m\u001b[0;34m\u001b[0m\u001b[0;34m\u001b[0m\u001b[0m\n\u001b[1;32m     46\u001b[0m         \u001b[0;31m#coeffs = self.dwt(b.reshape(1,1,1,-1))\u001b[0m\u001b[0;34m\u001b[0m\u001b[0;34m\u001b[0m\u001b[0;34m\u001b[0m\u001b[0m\n\u001b[0;32m---> 47\u001b[0;31m         \u001b[0mw\u001b[0m \u001b[0;34m=\u001b[0m \u001b[0mself\u001b[0m\u001b[0;34m.\u001b[0m\u001b[0mw_softshrink\u001b[0m\u001b[0;34m(\u001b[0m\u001b[0mself\u001b[0m\u001b[0;34m.\u001b[0m\u001b[0mdwt\u001b[0m\u001b[0;34m(\u001b[0m\u001b[0mb\u001b[0m\u001b[0;34m.\u001b[0m\u001b[0mreshape\u001b[0m\u001b[0;34m(\u001b[0m\u001b[0mb\u001b[0m\u001b[0;34m.\u001b[0m\u001b[0msize\u001b[0m\u001b[0;34m(\u001b[0m\u001b[0;34m)\u001b[0m\u001b[0;34m[\u001b[0m\u001b[0;36m0\u001b[0m\u001b[0;34m]\u001b[0m\u001b[0;34m,\u001b[0m\u001b[0;36m1\u001b[0m\u001b[0;34m,\u001b[0m\u001b[0;36m1\u001b[0m\u001b[0;34m,\u001b[0m\u001b[0;34m-\u001b[0m\u001b[0;36m1\u001b[0m\u001b[0;34m)\u001b[0m\u001b[0;34m)\u001b[0m\u001b[0;34m,\u001b[0m \u001b[0mw_theta\u001b[0m\u001b[0;34m)\u001b[0m\u001b[0;34m\u001b[0m\u001b[0;34m\u001b[0m\u001b[0m\n\u001b[0m\u001b[1;32m     48\u001b[0m         \u001b[0mplt\u001b[0m\u001b[0;34m.\u001b[0m\u001b[0msubplot\u001b[0m\u001b[0;34m(\u001b[0m\u001b[0;36m3\u001b[0m\u001b[0;34m,\u001b[0m\u001b[0;36m1\u001b[0m\u001b[0;34m,\u001b[0m\u001b[0;36m2\u001b[0m\u001b[0;34m)\u001b[0m\u001b[0;34m\u001b[0m\u001b[0;34m\u001b[0m\u001b[0m\n\u001b[1;32m     49\u001b[0m         \u001b[0mplt\u001b[0m\u001b[0;34m.\u001b[0m\u001b[0mplot\u001b[0m\u001b[0;34m(\u001b[0m\u001b[0mtorch\u001b[0m\u001b[0;34m.\u001b[0m\u001b[0marange\u001b[0m\u001b[0;34m(\u001b[0m\u001b[0;36m0\u001b[0m\u001b[0;34m,\u001b[0m\u001b[0mw\u001b[0m\u001b[0;34m[\u001b[0m\u001b[0;36m0\u001b[0m\u001b[0;34m]\u001b[0m\u001b[0;34m.\u001b[0m\u001b[0msize\u001b[0m\u001b[0;34m(\u001b[0m\u001b[0;34m)\u001b[0m\u001b[0;34m[\u001b[0m\u001b[0;36m3\u001b[0m\u001b[0;34m]\u001b[0m\u001b[0;34m)\u001b[0m\u001b[0;34m.\u001b[0m\u001b[0mcpu\u001b[0m\u001b[0;34m(\u001b[0m\u001b[0;34m)\u001b[0m\u001b[0;34m,\u001b[0m\u001b[0mw\u001b[0m\u001b[0;34m[\u001b[0m\u001b[0;36m0\u001b[0m\u001b[0;34m]\u001b[0m\u001b[0;34m[\u001b[0m\u001b[0;36m0\u001b[0m\u001b[0;34m]\u001b[0m\u001b[0;34m[\u001b[0m\u001b[0;36m0\u001b[0m\u001b[0;34m]\u001b[0m\u001b[0;34m[\u001b[0m\u001b[0;36m0\u001b[0m\u001b[0;34m]\u001b[0m\u001b[0;34m.\u001b[0m\u001b[0mcpu\u001b[0m\u001b[0;34m(\u001b[0m\u001b[0;34m)\u001b[0m\u001b[0;34m.\u001b[0m\u001b[0mdetach\u001b[0m\u001b[0;34m(\u001b[0m\u001b[0;34m)\u001b[0m\u001b[0;34m.\u001b[0m\u001b[0mnumpy\u001b[0m\u001b[0;34m(\u001b[0m\u001b[0;34m)\u001b[0m\u001b[0;34m)\u001b[0m\u001b[0;34m\u001b[0m\u001b[0;34m\u001b[0m\u001b[0m\n",
            "\u001b[0;32m<ipython-input-17-a7109da75573>\u001b[0m in \u001b[0;36mw_softshrink\u001b[0;34m(self, x, th)\u001b[0m\n\u001b[1;32m     88\u001b[0m     \u001b[0;32mdef\u001b[0m \u001b[0mw_softshrink\u001b[0m\u001b[0;34m(\u001b[0m\u001b[0mself\u001b[0m\u001b[0;34m,\u001b[0m\u001b[0mx\u001b[0m\u001b[0;34m,\u001b[0m\u001b[0mth\u001b[0m\u001b[0;34m)\u001b[0m\u001b[0;34m:\u001b[0m\u001b[0;34m\u001b[0m\u001b[0;34m\u001b[0m\u001b[0m\n\u001b[1;32m     89\u001b[0m         \u001b[0mprint\u001b[0m\u001b[0;34m(\u001b[0m\u001b[0;34m\"soft\"\u001b[0m\u001b[0;34m,\u001b[0m\u001b[0mtype\u001b[0m\u001b[0;34m(\u001b[0m\u001b[0mx\u001b[0m\u001b[0;34m)\u001b[0m\u001b[0;34m,\u001b[0m\u001b[0mx\u001b[0m\u001b[0;34m[\u001b[0m\u001b[0;36m0\u001b[0m\u001b[0;34m]\u001b[0m\u001b[0;34m.\u001b[0m\u001b[0msize\u001b[0m\u001b[0;34m(\u001b[0m\u001b[0;34m)\u001b[0m\u001b[0;34m)\u001b[0m\u001b[0;34m\u001b[0m\u001b[0;34m\u001b[0m\u001b[0m\n\u001b[0;32m---> 90\u001b[0;31m         \u001b[0;32mreturn\u001b[0m \u001b[0mself\u001b[0m\u001b[0;34m.\u001b[0m\u001b[0mprox\u001b[0m\u001b[0;34m(\u001b[0m\u001b[0mx\u001b[0m\u001b[0;34m[\u001b[0m\u001b[0;36m0\u001b[0m\u001b[0;34m]\u001b[0m\u001b[0;34m,\u001b[0m\u001b[0mth\u001b[0m\u001b[0;34m)\u001b[0m\u001b[0;34m,\u001b[0m\u001b[0;34m[\u001b[0m\u001b[0mself\u001b[0m\u001b[0;34m.\u001b[0m\u001b[0mprox\u001b[0m\u001b[0;34m(\u001b[0m\u001b[0mi\u001b[0m\u001b[0;34m,\u001b[0m\u001b[0mth\u001b[0m\u001b[0;34m)\u001b[0m \u001b[0;32mfor\u001b[0m \u001b[0mi\u001b[0m \u001b[0;32min\u001b[0m \u001b[0mx\u001b[0m\u001b[0;34m[\u001b[0m\u001b[0;36m1\u001b[0m\u001b[0;34m]\u001b[0m\u001b[0;34m]\u001b[0m\u001b[0;34m\u001b[0m\u001b[0;34m\u001b[0m\u001b[0m\n\u001b[0m\u001b[1;32m     91\u001b[0m \u001b[0;34m\u001b[0m\u001b[0m\n\u001b[1;32m     92\u001b[0m \u001b[0;31m#    def add_b_iwt(self,x,b):\u001b[0m\u001b[0;34m\u001b[0m\u001b[0;34m\u001b[0m\u001b[0;34m\u001b[0m\u001b[0m\n",
            "\u001b[0;32m<ipython-input-17-a7109da75573>\u001b[0m in \u001b[0;36m<listcomp>\u001b[0;34m(.0)\u001b[0m\n\u001b[1;32m     88\u001b[0m     \u001b[0;32mdef\u001b[0m \u001b[0mw_softshrink\u001b[0m\u001b[0;34m(\u001b[0m\u001b[0mself\u001b[0m\u001b[0;34m,\u001b[0m\u001b[0mx\u001b[0m\u001b[0;34m,\u001b[0m\u001b[0mth\u001b[0m\u001b[0;34m)\u001b[0m\u001b[0;34m:\u001b[0m\u001b[0;34m\u001b[0m\u001b[0;34m\u001b[0m\u001b[0m\n\u001b[1;32m     89\u001b[0m         \u001b[0mprint\u001b[0m\u001b[0;34m(\u001b[0m\u001b[0;34m\"soft\"\u001b[0m\u001b[0;34m,\u001b[0m\u001b[0mtype\u001b[0m\u001b[0;34m(\u001b[0m\u001b[0mx\u001b[0m\u001b[0;34m)\u001b[0m\u001b[0;34m,\u001b[0m\u001b[0mx\u001b[0m\u001b[0;34m[\u001b[0m\u001b[0;36m0\u001b[0m\u001b[0;34m]\u001b[0m\u001b[0;34m.\u001b[0m\u001b[0msize\u001b[0m\u001b[0;34m(\u001b[0m\u001b[0;34m)\u001b[0m\u001b[0;34m)\u001b[0m\u001b[0;34m\u001b[0m\u001b[0;34m\u001b[0m\u001b[0m\n\u001b[0;32m---> 90\u001b[0;31m         \u001b[0;32mreturn\u001b[0m \u001b[0mself\u001b[0m\u001b[0;34m.\u001b[0m\u001b[0mprox\u001b[0m\u001b[0;34m(\u001b[0m\u001b[0mx\u001b[0m\u001b[0;34m[\u001b[0m\u001b[0;36m0\u001b[0m\u001b[0;34m]\u001b[0m\u001b[0;34m,\u001b[0m\u001b[0mth\u001b[0m\u001b[0;34m)\u001b[0m\u001b[0;34m,\u001b[0m\u001b[0;34m[\u001b[0m\u001b[0mself\u001b[0m\u001b[0;34m.\u001b[0m\u001b[0mprox\u001b[0m\u001b[0;34m(\u001b[0m\u001b[0mi\u001b[0m\u001b[0;34m,\u001b[0m\u001b[0mth\u001b[0m\u001b[0;34m)\u001b[0m \u001b[0;32mfor\u001b[0m \u001b[0mi\u001b[0m \u001b[0;32min\u001b[0m \u001b[0mx\u001b[0m\u001b[0;34m[\u001b[0m\u001b[0;36m1\u001b[0m\u001b[0;34m]\u001b[0m\u001b[0;34m]\u001b[0m\u001b[0;34m\u001b[0m\u001b[0;34m\u001b[0m\u001b[0m\n\u001b[0m\u001b[1;32m     91\u001b[0m \u001b[0;34m\u001b[0m\u001b[0m\n\u001b[1;32m     92\u001b[0m \u001b[0;31m#    def add_b_iwt(self,x,b):\u001b[0m\u001b[0;34m\u001b[0m\u001b[0;34m\u001b[0m\u001b[0;34m\u001b[0m\u001b[0m\n",
            "\u001b[0;32m<ipython-input-17-a7109da75573>\u001b[0m in \u001b[0;36m<lambda>\u001b[0;34m(z, th)\u001b[0m\n\u001b[1;32m     18\u001b[0m         \u001b[0mprint\u001b[0m\u001b[0;34m(\u001b[0m\u001b[0mdevice\u001b[0m\u001b[0;34m)\u001b[0m\u001b[0;34m\u001b[0m\u001b[0;34m\u001b[0m\u001b[0m\n\u001b[1;32m     19\u001b[0m         \u001b[0;32mif\u001b[0m \u001b[0mprox\u001b[0m \u001b[0;32mis\u001b[0m \u001b[0;32mNone\u001b[0m\u001b[0;34m:\u001b[0m\u001b[0;34m\u001b[0m\u001b[0;34m\u001b[0m\u001b[0m\n\u001b[0;32m---> 20\u001b[0;31m             \u001b[0mself\u001b[0m\u001b[0;34m.\u001b[0m\u001b[0mprox\u001b[0m \u001b[0;34m=\u001b[0m \u001b[0;32mlambda\u001b[0m \u001b[0mz\u001b[0m\u001b[0;34m,\u001b[0m \u001b[0mth\u001b[0m\u001b[0;34m:\u001b[0m \u001b[0mz\u001b[0m\u001b[0;34m.\u001b[0m\u001b[0msign\u001b[0m\u001b[0;34m(\u001b[0m\u001b[0;34m)\u001b[0m \u001b[0;34m*\u001b[0m \u001b[0;34m(\u001b[0m\u001b[0mz\u001b[0m\u001b[0;34m.\u001b[0m\u001b[0mabs_\u001b[0m\u001b[0;34m(\u001b[0m\u001b[0;34m)\u001b[0m \u001b[0;34m-\u001b[0m \u001b[0mth\u001b[0m\u001b[0;34m)\u001b[0m\u001b[0;34m.\u001b[0m\u001b[0mmax\u001b[0m\u001b[0;34m(\u001b[0m\u001b[0mtorch\u001b[0m\u001b[0;34m.\u001b[0m\u001b[0mtensor\u001b[0m\u001b[0;34m(\u001b[0m\u001b[0;36m0\u001b[0m\u001b[0;34m,\u001b[0m \u001b[0mdevice\u001b[0m\u001b[0;34m=\u001b[0m\u001b[0mdevice\u001b[0m\u001b[0;34m)\u001b[0m\u001b[0;34m.\u001b[0m\u001b[0mfloat\u001b[0m\u001b[0;34m(\u001b[0m\u001b[0;34m)\u001b[0m\u001b[0;34m)\u001b[0m\u001b[0;34m\u001b[0m\u001b[0;34m\u001b[0m\u001b[0m\n\u001b[0m\u001b[1;32m     21\u001b[0m             \u001b[0;31m#zの値を0か負(=-1)か正(=1)か判定したやつとsoft閾値処理したやつの乗算\u001b[0m\u001b[0;34m\u001b[0m\u001b[0;34m\u001b[0m\u001b[0;34m\u001b[0m\u001b[0m\n\u001b[1;32m     22\u001b[0m         \u001b[0;32melse\u001b[0m\u001b[0;34m:\u001b[0m\u001b[0;34m\u001b[0m\u001b[0;34m\u001b[0m\u001b[0m\n",
            "\u001b[0;31mRuntimeError\u001b[0m: diff_view_meta->output_nr_ == 0 INTERNAL ASSERT FAILED at /pytorch/torch/csrc/autograd/variable.cpp:134, please report a bug to PyTorch. "
          ]
        },
        {
          "output_type": "display_data",
          "data": {
            "image/png": "[encoded data removed]",
            "text/plain": [
              "<Figure size 432x288 with 1 Axes>"
            ]
          },
          "metadata": {
            "tags": []
          }
        }
      ]
    },
    {
      "cell_type": "code",
      "metadata": {
        "id": "ybJ4yyU9tfWX",
        "colab_type": "code",
        "colab": {}
      },
      "source": [
        "j = 0\n",
        "print(\"スパース解xをつかって求めた波形\\n\",tdct.idct(model_out[0][j]))\n",
        "print(\"xの結果\\n\",model_out[0][j])\n",
        "print(\"元のフーリエ(x)\\n\",tdct.dct(input_data[j]))\n",
        "check = tdct.idct(model_out[0][j]) * 32768.0\n",
        "print(type(check))\n",
        "plt.subplot(3,1,1)\n",
        "plt.title(\"true\")\n",
        "plt.plot(data.cpu(),input_data[j].cpu() * 32768.0)\n",
        "plt.subplot(3,1,2)\n",
        "plt.title(\"reconst\")\n",
        "plt.plot(data.cpu(),check.cpu().detach().numpy())\n",
        "plt.subplot(3,1,3)\n",
        "plt.title(\"after x\")\n",
        "plt.plot(data.cpu(),model_out[0][j].cpu().detach().numpy())"
      ],
      "execution_count": 0,
      "outputs": []
    },
    {
      "cell_type": "code",
      "metadata": {
        "id": "bPPT2E-8uB-6",
        "colab_type": "code",
        "colab": {}
      },
      "source": [
        "wt = DWTForward(J=3,wave='db10',mode='zero')\n",
        "iwt = DWTInverse(wave='db10', mode='zero')\n",
        "\n",
        "print(type(model_out[1]))\n",
        "print(type(model_out[1][0]),model_out[1][0].size())\n",
        "print(type(model_out[1][1]),[x.size() for x in model_out[1][1]])\n",
        "print(model_out[1][0][0][0][0])\n",
        "print(\"確認\",wt(input_data[j].reshape(1,1,1,-1))[0].size(),wt(input_data[j].reshape(1,1,1,-1))[0][0][0][0])\n",
        "#print(\"wの結果\",type(model_out[1]),model_out[1].size(),'\\n',model_out[1][j][0][0])\n",
        "print(\"スパース解wをつかって求めた波形\\n\",iwt(model_out[1])[j][0][0] * 32768.0)\n",
        "\n",
        "\n",
        "check = iwt(model_out[1]) * 32768.0\n",
        "print(type(check),check.size())\n",
        "plt.subplot(2,1,1)\n",
        "plt.plot(data.cpu(),input_data[j].cpu() * 32768.0)\n",
        "plt.subplot(2,1,2)\n",
        "plt.plot(data.cpu(),check[j][0][0].cpu().detach().numpy())\n"
      ],
      "execution_count": 0,
      "outputs": []
    }
  ]
}