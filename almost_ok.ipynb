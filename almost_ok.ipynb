{
  "nbformat": 4,
  "nbformat_minor": 0,
  "metadata": {
    "colab": {
      "name": "almost_ok.ipynb",
      "provenance": [],
      "collapsed_sections": [],
      "include_colab_link": true
    },
    "kernelspec": {
      "name": "python3",
      "display_name": "Python 3"
    },
    "accelerator": "GPU"
  },
  "cells": [
    {
      "cell_type": "markdown",
      "metadata": {
        "id": "view-in-github",
        "colab_type": "text"
      },
      "source": [
        "<a href=\"https://colab.research.google.com/github/ymourilab/mouri/blob/master/almost_ok.ipynb\" target=\"_parent\"><img src=\"https://colab.research.google.com/assets/colab-badge.svg\" alt=\"Open In Colab\"/></a>"
      ]
    },
    {
      "cell_type": "code",
      "metadata": {
        "id": "Vx0XjR2V5oQa",
        "colab_type": "code",
        "outputId": "579cc8db-428c-4118-f62f-5bf4bd9abf5b",
        "colab": {
          "base_uri": "https://localhost:8080/",
          "height": 292
        }
      },
      "source": [
        "!git clone https://github.com/fbcotter/pytorch_wavelets\n",
        "!pip install ./pytorch_wavelets/."
      ],
      "execution_count": 1,
      "outputs": [
        {
          "output_type": "stream",
          "text": [
            "fatal: destination path 'pytorch_wavelets' already exists and is not an empty directory.\n",
            "Processing ./pytorch_wavelets\n",
            "Requirement already satisfied: numpy in /usr/local/lib/python3.6/dist-packages (from pytorch-wavelets==1.1.0) (1.17.4)\n",
            "Requirement already satisfied: six in /usr/local/lib/python3.6/dist-packages (from pytorch-wavelets==1.1.0) (1.12.0)\n",
            "Requirement already satisfied: torch in /usr/local/lib/python3.6/dist-packages (from pytorch-wavelets==1.1.0) (1.3.1)\n",
            "Building wheels for collected packages: pytorch-wavelets\n",
            "  Building wheel for pytorch-wavelets (setup.py) ... \u001b[?25l\u001b[?25hdone\n",
            "  Created wheel for pytorch-wavelets: filename=pytorch_wavelets-1.1.0-cp36-none-any.whl size=46100 sha256=410396aa0b247668e298d1e824d64c0725d184a58c0f5c0fb932de23a33172b2\n",
            "  Stored in directory: /tmp/pip-ephem-wheel-cache-lz0s5vrc/wheels/82/e1/5b/16a4e6ccfc0bb2ce14bd2796adb13e6e9b718cb7d2e1ae3643\n",
            "Successfully built pytorch-wavelets\n",
            "Installing collected packages: pytorch-wavelets\n",
            "  Found existing installation: pytorch-wavelets 1.1.0\n",
            "    Uninstalling pytorch-wavelets-1.1.0:\n",
            "      Successfully uninstalled pytorch-wavelets-1.1.0\n",
            "Successfully installed pytorch-wavelets-1.1.0\n"
          ],
          "name": "stdout"
        }
      ]
    },
    {
      "cell_type": "code",
      "metadata": {
        "id": "raA6CcvL519a",
        "colab_type": "code",
        "outputId": "d8032d56-7ca4-495c-8484-ef223f19643b",
        "colab": {
          "base_uri": "https://localhost:8080/",
          "height": 275
        }
      },
      "source": [
        "!git clone https://github.com/zh217/torch-dct\n",
        "!pip install ./torch-dct/."
      ],
      "execution_count": 2,
      "outputs": [
        {
          "output_type": "stream",
          "text": [
            "fatal: destination path 'torch-dct' already exists and is not an empty directory.\n",
            "Processing ./torch-dct\n",
            "Requirement already satisfied: torch>=0.4.1 in /usr/local/lib/python3.6/dist-packages (from torch-dct==0.1.5) (1.3.1)\n",
            "Requirement already satisfied: numpy in /usr/local/lib/python3.6/dist-packages (from torch>=0.4.1->torch-dct==0.1.5) (1.17.4)\n",
            "Building wheels for collected packages: torch-dct\n",
            "  Building wheel for torch-dct (setup.py) ... \u001b[?25l\u001b[?25hdone\n",
            "  Created wheel for torch-dct: filename=torch_dct-0.1.5-cp36-none-any.whl size=4997 sha256=d7420973e54bea0c06376aa1c51358409899ece3cfc70a0d085f8b3717b5a492\n",
            "  Stored in directory: /root/.cache/pip/wheels/54/af/7d/bfc942607a03ab314a2c757dae2f27d25d9698e9ed106890ed\n",
            "Successfully built torch-dct\n",
            "Installing collected packages: torch-dct\n",
            "  Found existing installation: torch-dct 0.1.5\n",
            "    Uninstalling torch-dct-0.1.5:\n",
            "      Successfully uninstalled torch-dct-0.1.5\n",
            "Successfully installed torch-dct-0.1.5\n"
          ],
          "name": "stdout"
        }
      ]
    },
    {
      "cell_type": "code",
      "metadata": {
        "id": "Qa-sLz0rkOyG",
        "colab_type": "code",
        "colab": {}
      },
      "source": [
        "#!git clone https://github.com/tsakailab/spmlib\n",
        "#!pip install ./spmlib/."
      ],
      "execution_count": 0,
      "outputs": []
    },
    {
      "cell_type": "code",
      "metadata": {
        "id": "KLB8x7Q2QB9j",
        "colab_type": "code",
        "colab": {
          "base_uri": "https://localhost:8080/",
          "height": 54
        },
        "outputId": "2c0d3169-9d92-41df-8b89-e166750252ee"
      },
      "source": [
        "from google.colab import drive\n",
        "drive.mount('/content/gdrive')"
      ],
      "execution_count": 4,
      "outputs": [
        {
          "output_type": "stream",
          "text": [
            "Drive already mounted at /content/gdrive; to attempt to forcibly remount, call drive.mount(\"/content/gdrive\", force_remount=True).\n"
          ],
          "name": "stdout"
        }
      ]
    },
    {
      "cell_type": "code",
      "metadata": {
        "id": "H0pZTs5eQI93",
        "colab_type": "code",
        "colab": {
          "base_uri": "https://localhost:8080/",
          "height": 119
        },
        "outputId": "65d32b96-9028-4450-8cfe-f19270292963"
      },
      "source": [
        "%ls gdrive/My\\ Drive/mouri"
      ],
      "execution_count": 5,
      "outputs": [
        {
          "output_type": "stream",
          "text": [
            " \u001b[0m\u001b[01;34mcloned-repo\u001b[0m/        'ok.ipynb のコピー'                uista.ipynb\n",
            " coa_5k_F.wav         sample_F.wav                      Untitled0.ipynb\n",
            " coa_5k.wav           sample.wav                        卒研用.gdoc\n",
            " coa_5k_W.wav         sample_W.wav                      毛利卒論.gdoc\n",
            " \u001b[01;34mHaion_recognition\u001b[0m/   test_dct_wavelet.ipynb\n",
            " ok.ipynb             try_uISTA_for_lung_sounds.ipynb\n"
          ],
          "name": "stdout"
        }
      ]
    },
    {
      "cell_type": "code",
      "metadata": {
        "id": "due82XR-a5mP",
        "colab_type": "code",
        "outputId": "cb14b127-329f-4cdd-a443-e3a0e5e6c7d4",
        "colab": {
          "base_uri": "https://localhost:8080/",
          "height": 68
        }
      },
      "source": [
        "import torch\n",
        "torch.set_default_tensor_type(torch.cuda.FloatTensor)\n",
        "print(torch.__version__)\n",
        "print(torch.cuda.is_available())\n",
        "device = torch.device(\"cuda\" if torch.cuda.is_available() else \"cpu\")\n",
        "print(device)"
      ],
      "execution_count": 6,
      "outputs": [
        {
          "output_type": "stream",
          "text": [
            "1.3.1\n",
            "True\n",
            "cuda\n"
          ],
          "name": "stdout"
        }
      ]
    },
    {
      "cell_type": "code",
      "metadata": {
        "id": "9VTbHAYpOJV1",
        "colab_type": "code",
        "outputId": "8d28b015-15c8-4cab-884b-3e856dc4941c",
        "colab": {
          "base_uri": "https://localhost:8080/",
          "height": 54
        }
      },
      "source": [
        "import torch_dct as tdct\n",
        "from pytorch_wavelets import DWTForward, DWTInverse\n",
        "import torch\n",
        "\n",
        "class uISTA(torch.nn.Module):\n",
        "\n",
        "    def __init__(self, num_unroll, l=1.0, scale=1., prox=None, wt=None, iwt=None):\n",
        "        super(uISTA, self).__init__()\n",
        "        self.num_unroll = num_unroll #unroll回数\n",
        "        #self.A = torch.nn.Parameter(torch.FloatTensor(A), requires_grad=True)#fhみたいなのに変更する\n",
        "        self.l = torch.nn.Parameter(torch.FloatTensor([l]), requires_grad=True).to(device=device)#なんか配列作ってる多分なんかの計算用theta\n",
        "        self.scale = scale#thetaの計算に使ってる\n",
        "        print(device)\n",
        "        if prox is None:\n",
        "            self.prox = lambda z, th: z.sign() * (z.abs_() - th).max(torch.tensor(0, device=device).float())\n",
        "            #zの値を0か負(=-1)か正(=1)か判定したやつとsoft閾値処理したやつの乗算\n",
        "        else:\n",
        "            self.prox = prox\n",
        "\n",
        "        if wt is None:\n",
        "            self.wt = DWTForward(J=3,wave='db10',mode='zero')\n",
        "        else:\n",
        "            self.wt = wt\n",
        "\n",
        "        if iwt is None:\n",
        "            self.iwt = DWTInverse(wave='db10', mode='zero')\n",
        "        else:\n",
        "            self.iwt = iwt\n",
        "\n",
        "    def forward(self, b):\n",
        "        theta = torch.mul(self.l, self.scale)#lの要素をscale倍するらしい\n",
        "        w_theta = torch.mul(self.l, self.scale).div(10)\n",
        "        # prox(A.dot(b*scale), theta) for initial guess of x xの初期値を決めるよ\n",
        "        #x = self.prox(b.mul(self.scale).matmul(self.A), theta)    #matmulをidctにidwtに\n",
        "        #x = self.prox(self.tidct(b.mul_(self.scale)), theta)\n",
        "        x = self.prox(self.tdct(b.mul_(self.scale)), theta)\n",
        "        plt.plot(torch.arange(0,len(x[0])).cpu(),x[0].cpu().detach().numpy())\n",
        "        print(1111111)\n",
        "        #coeffs = self.dwt(b.reshape(1,1,1,-1))\n",
        "        w = self.w_softshrink(self.dwt(b.reshape(b.size()[0],1,1,-1)), w_theta)\n",
        "        plt.plot(torch.arange(0,w[0].size()[3]).cpu(),w[0][0][0][0].cpu().detach().numpy())\n",
        "        print(\"理想\",type(w),self.dwt(b.reshape(b.size()[0],1,1,-1))[0].size())\n",
        "        print(\"b\",type(b),b.size(),b.size()[0])\n",
        "        print(\"w[0]\",w[0].size(),\"1\",[i.size() for i in w[1]])\n",
        "        #self.dwt(w)[0].mul_(self.scale),[i.mul_(self.scale)for i in self.dwt(w)[1]])\n",
        "        #w = self.w_softshrink(self.idwt(self.idwt(self.dwt(b.reshape(1,1,1,-1)))), theta)\n",
        "        #w = torch.zeros(1,1,1,len(b[0]))\n",
        "        #w = b.reshape(b.size()[0],1,1,-1)\n",
        "        #print(x.size(),w.size())\n",
        "        for i in range(self.num_unroll):\n",
        "            #x = prox(x+A.T.dot(b-A.dot(x))*scale, theta) ISTAの繰り返し部分\n",
        "            #x = soft(x + AT(b - Ax))scale\n",
        "            #x = self.prox(x + (b - x.matmul(self.A.t())).mul_(self.scale).matmul(self.A), theta)\n",
        "            #x = self.prox(x + r.mul_(self.scale).matmul(self.A), theta)  r = b-Ax\n",
        "            #x = self.prox(x + At(r*scale), theta)\n",
        "            x = self.prox(x + self.tdct(b - self.tidct(x.mul_(self.scale))), theta)\n",
        "            print(i)\n",
        "            print('after f')\n",
        "            print(\"w\",w[0].shape,[i.shape for i in w[1]])\n",
        "            print(\"ato\")\n",
        "            #[x * y for (x, y) in zip(li1, li2)]\n",
        "            #+ self.dwt(b.reshape(b.size()[0],1,1,-1) - self.idwt(w).mul_(self.scale))[0],\\\n",
        "            w = self.w_softshrink((w[0] \\\n",
        "                                   ,[v - u for (v, u) in zip(w[1], self.dwt(b.reshape(b.size()[0],1,1,-1) - self.idwt(w).mul_(self.scale))[1])]), w_theta)\n",
        "            print(\"koeta\")\n",
        "        return x,w\n",
        "\n",
        "    #関数AとATのかわり\n",
        "    def tdct(self,x):\n",
        "        return tdct.dct(x)\n",
        "    \n",
        "    def tidct(self,x):\n",
        "        return tdct.idct(x)\n",
        "\n",
        "    def dwt(self,x):\n",
        "        return self.wt(x)\n",
        "\n",
        "    def idwt(self,x):\n",
        "        return self.iwt((x[0],x[1]))\n",
        "\n",
        "    def w_softshrink(self,x,th):\n",
        "        print(\"soft\",type(x),x[0].size())\n",
        "        return self.prox(x[0],th),[self.prox(i,th) for i in x[1]]\n",
        "\n",
        "#    def add_b_iwt(self,x,b):\n",
        "#        for i in range(x[0].size()[0]):\n",
        "#            b[i][0][0] - self.idwt(w)[i][0][0].mul_(self.scale)\n",
        "#        return x\n",
        "\"\"\"\n",
        "    #%% sign function compatible with complex values\n",
        "    def sgn(z):\n",
        "        return torch.div(z, z.abs())\n",
        "\n",
        "    #%% soft thresholding function compatible with complex values\n",
        "    def f_softshrink(z, th):\n",
        "        return sgn(z) * torch.max(z.abs() - th, torch.tensor([0]).float())\n",
        "        \"\"\""
      ],
      "execution_count": 7,
      "outputs": [
        {
          "output_type": "execute_result",
          "data": {
            "text/plain": [
              "'\\n    #%% sign function compatible with complex values\\n    def sgn(z):\\n        return torch.div(z, z.abs())\\n\\n    #%% soft thresholding function compatible with complex values\\n    def f_softshrink(z, th):\\n        return sgn(z) * torch.max(z.abs() - th, torch.tensor([0]).float())\\n        '"
            ]
          },
          "metadata": {
            "tags": []
          },
          "execution_count": 7
        }
      ]
    },
    {
      "cell_type": "code",
      "metadata": {
        "id": "Wv4UEoWi0HO9",
        "colab_type": "code",
        "colab": {}
      },
      "source": [
        "softm = lambda z, th: z.sign() * torch.max(z.abs() - th, torch.tensor([0]).float())"
      ],
      "execution_count": 0,
      "outputs": []
    },
    {
      "cell_type": "code",
      "metadata": {
        "id": "JPHcnbTXwGyP",
        "colab_type": "code",
        "colab": {}
      },
      "source": [
        "def sgn(z):\n",
        "    return torch.div(z, z.abs())\n",
        "\n",
        "#%% soft thresholding function compatible with complex values\n",
        "def f_softshrink(z, th):\n",
        "    return sgn(z) * torch.max(z.abs() - th, torch.tensor([0]).float())"
      ],
      "execution_count": 0,
      "outputs": []
    },
    {
      "cell_type": "code",
      "metadata": {
        "id": "oo-ePloiSRfA",
        "colab_type": "code",
        "colab": {}
      },
      "source": [
        "def read_file(filename):\n",
        "    #read\n",
        "    if os.path.exists(filename + '.wav') == False:\n",
        "        Fs, input_data  = swf.read(filename + '.WAV')\n",
        "    else:\n",
        "        Fs, data = swf.read(filename + '.wav')\n",
        "    \n",
        "    #normalize between -1 and 1, change dtype double\n",
        "    data = data.astype(np.float64)\n",
        "    data = data / 32768.0\n",
        "    print(Fs)\n",
        "    print(data.shape)\n",
        "    plt.subplot(3,1,1)\n",
        "    plt.plot(np.arange(0,len(data)),data)\n",
        "    return Fs,data"
      ],
      "execution_count": 0,
      "outputs": []
    },
    {
      "cell_type": "code",
      "metadata": {
        "id": "GdY985eXxABI",
        "colab_type": "code",
        "outputId": "084396ae-7e61-42d0-81ec-168f596b724d",
        "colab": {
          "base_uri": "https://localhost:8080/",
          "height": 146
        }
      },
      "source": [
        "import torch\n",
        "import numpy as np\n",
        "import math\n",
        "import matplotlib.pyplot as plt\n",
        "from time import time\n",
        "import os\n",
        "import scipy.io.wavfile as swf\n",
        "\n",
        "a = read_file('./gdrive/My Drive/mouri/coa_5k')[1]\n",
        "a = np.concatenate((a,np.zeros(262144-len(a))),axis=0)\n",
        "data = torch.arange(0,len(a))"
      ],
      "execution_count": 11,
      "outputs": [
        {
          "output_type": "stream",
          "text": [
            "5000\n",
            "(237333,)\n"
          ],
          "name": "stdout"
        },
        {
          "output_type": "display_data",
          "data": {
            "image/png": "[encoded data removed]",
            "text/plain": [
              "<Figure size 432x288 with 1 Axes>"
            ]
          },
          "metadata": {
            "tags": []
          }
        }
      ]
    },
    {
      "cell_type": "code",
      "metadata": {
        "id": "_-MyiAatUJ7h",
        "colab_type": "code",
        "colab": {
          "base_uri": "https://localhost:8080/",
          "height": 51
        },
        "outputId": "e15d076f-5760-4fb8-ef69-f1a150c37aa6"
      },
      "source": [
        "input_data = torch.from_numpy(a).view(1,-1)\n",
        "print(input_data.size())\n",
        "print(type(input_data))"
      ],
      "execution_count": 12,
      "outputs": [
        {
          "output_type": "stream",
          "text": [
            "torch.Size([1, 262144])\n",
            "<class 'torch.Tensor'>\n"
          ],
          "name": "stdout"
        }
      ]
    },
    {
      "cell_type": "code",
      "metadata": {
        "id": "hUy4R7lBdUYB",
        "colab_type": "code",
        "outputId": "8597532f-aa1f-44a8-9b35-53a7c3248329",
        "colab": {
          "base_uri": "https://localhost:8080/",
          "height": 88
        }
      },
      "source": [
        "input_data = torch.tensor(input_data, dtype=torch.float).to(device=device)\n",
        "print(input_data.size())\n",
        "#true"
      ],
      "execution_count": 13,
      "outputs": [
        {
          "output_type": "stream",
          "text": [
            "torch.Size([1, 262144])\n"
          ],
          "name": "stdout"
        },
        {
          "output_type": "stream",
          "text": [
            "/usr/local/lib/python3.6/dist-packages/ipykernel_launcher.py:1: UserWarning: To copy construct from a tensor, it is recommended to use sourceTensor.clone().detach() or sourceTensor.clone().detach().requires_grad_(True), rather than torch.tensor(sourceTensor).\n",
            "  \"\"\"Entry point for launching an IPython kernel.\n"
          ],
          "name": "stderr"
        }
      ]
    },
    {
      "cell_type": "code",
      "metadata": {
        "id": "rRIS8wBGeIZ4",
        "colab_type": "code",
        "outputId": "00199d6a-eef2-4a5a-9675-1c333a8cab6b",
        "colab": {
          "base_uri": "https://localhost:8080/",
          "height": 68
        }
      },
      "source": [
        "model = uISTA(30).to(device=device)\n",
        "model.cuda()\n",
        "print(model.named_parameters())\n",
        "print(model.parameters())"
      ],
      "execution_count": 14,
      "outputs": [
        {
          "output_type": "stream",
          "text": [
            "cuda\n",
            "<generator object Module.named_parameters at 0x7fa53709e570>\n",
            "<generator object Module.parameters at 0x7fa53709e570>\n"
          ],
          "name": "stdout"
        }
      ]
    },
    {
      "cell_type": "code",
      "metadata": {
        "id": "ZO8c874X5fYp",
        "colab_type": "code",
        "outputId": "b1808cd9-d1a7-4c14-c1a0-02f60f5e5652",
        "colab": {
          "base_uri": "https://localhost:8080/",
          "height": 170
        }
      },
      "source": [
        "print('Is model parameters on GPU? :', next(model.parameters()).is_cuda)\n",
        "for param in model.parameters():\n",
        "    print(type(param.data), param.size(), ', is_cuda:', param.is_cuda)"
      ],
      "execution_count": 15,
      "outputs": [
        {
          "output_type": "stream",
          "text": [
            "Is model parameters on GPU? : True\n",
            "<class 'torch.Tensor'> torch.Size([1, 1, 20, 1]) , is_cuda: True\n",
            "<class 'torch.Tensor'> torch.Size([1, 1, 20, 1]) , is_cuda: True\n",
            "<class 'torch.Tensor'> torch.Size([1, 1, 1, 20]) , is_cuda: True\n",
            "<class 'torch.Tensor'> torch.Size([1, 1, 1, 20]) , is_cuda: True\n",
            "<class 'torch.Tensor'> torch.Size([1, 1, 20, 1]) , is_cuda: True\n",
            "<class 'torch.Tensor'> torch.Size([1, 1, 20, 1]) , is_cuda: True\n",
            "<class 'torch.Tensor'> torch.Size([1, 1, 1, 20]) , is_cuda: True\n",
            "<class 'torch.Tensor'> torch.Size([1, 1, 1, 20]) , is_cuda: True\n"
          ],
          "name": "stdout"
        }
      ]
    },
    {
      "cell_type": "code",
      "metadata": {
        "id": "kdNnG5JGfJcL",
        "colab_type": "code",
        "outputId": "8fddf636-0b9a-42cf-e01d-0370f744d251",
        "colab": {
          "base_uri": "https://localhost:8080/",
          "height": 1000
        }
      },
      "source": [
        "model_out = model.forward(input_data)"
      ],
      "execution_count": 16,
      "outputs": [
        {
          "output_type": "stream",
          "text": [
            "1111111\n",
            "soft <class 'tuple'> torch.Size([1, 1, 16, 32784])\n",
            "理想 <class 'tuple'> torch.Size([1, 1, 16, 32784])\n",
            "b <class 'torch.Tensor'> torch.Size([1, 262144]) 1\n",
            "w[0] torch.Size([1, 1, 16, 32784]) 1 [torch.Size([1, 1, 3, 10, 131081]), torch.Size([1, 1, 3, 14, 65550]), torch.Size([1, 1, 3, 16, 32784])]\n",
            "0\n",
            "after f\n",
            "w torch.Size([1, 1, 16, 32784]) [torch.Size([1, 1, 3, 10, 131081]), torch.Size([1, 1, 3, 14, 65550]), torch.Size([1, 1, 3, 16, 32784])]\n",
            "ato\n",
            "soft <class 'tuple'> torch.Size([1, 1, 16, 32784])\n",
            "koeta\n",
            "1\n",
            "after f\n",
            "w torch.Size([1, 1, 16, 32784]) [torch.Size([1, 1, 3, 10, 131081]), torch.Size([1, 1, 3, 14, 65550]), torch.Size([1, 1, 3, 16, 32784])]\n",
            "ato\n",
            "soft <class 'tuple'> torch.Size([1, 1, 16, 32784])\n",
            "koeta\n",
            "2\n",
            "after f\n",
            "w torch.Size([1, 1, 16, 32784]) [torch.Size([1, 1, 3, 10, 131081]), torch.Size([1, 1, 3, 14, 65550]), torch.Size([1, 1, 3, 16, 32784])]\n",
            "ato\n",
            "soft <class 'tuple'> torch.Size([1, 1, 16, 32784])\n",
            "koeta\n",
            "3\n",
            "after f\n",
            "w torch.Size([1, 1, 16, 32784]) [torch.Size([1, 1, 3, 10, 131081]), torch.Size([1, 1, 3, 14, 65550]), torch.Size([1, 1, 3, 16, 32784])]\n",
            "ato\n",
            "soft <class 'tuple'> torch.Size([1, 1, 16, 32784])\n",
            "koeta\n",
            "4\n",
            "after f\n",
            "w torch.Size([1, 1, 16, 32784]) [torch.Size([1, 1, 3, 10, 131081]), torch.Size([1, 1, 3, 14, 65550]), torch.Size([1, 1, 3, 16, 32784])]\n",
            "ato\n",
            "soft <class 'tuple'> torch.Size([1, 1, 16, 32784])\n",
            "koeta\n",
            "5\n",
            "after f\n",
            "w torch.Size([1, 1, 16, 32784]) [torch.Size([1, 1, 3, 10, 131081]), torch.Size([1, 1, 3, 14, 65550]), torch.Size([1, 1, 3, 16, 32784])]\n",
            "ato\n",
            "soft <class 'tuple'> torch.Size([1, 1, 16, 32784])\n",
            "koeta\n",
            "6\n",
            "after f\n",
            "w torch.Size([1, 1, 16, 32784]) [torch.Size([1, 1, 3, 10, 131081]), torch.Size([1, 1, 3, 14, 65550]), torch.Size([1, 1, 3, 16, 32784])]\n",
            "ato\n",
            "soft <class 'tuple'> torch.Size([1, 1, 16, 32784])\n",
            "koeta\n",
            "7\n",
            "after f\n",
            "w torch.Size([1, 1, 16, 32784]) [torch.Size([1, 1, 3, 10, 131081]), torch.Size([1, 1, 3, 14, 65550]), torch.Size([1, 1, 3, 16, 32784])]\n",
            "ato\n",
            "soft <class 'tuple'> torch.Size([1, 1, 16, 32784])\n",
            "koeta\n",
            "8\n",
            "after f\n",
            "w torch.Size([1, 1, 16, 32784]) [torch.Size([1, 1, 3, 10, 131081]), torch.Size([1, 1, 3, 14, 65550]), torch.Size([1, 1, 3, 16, 32784])]\n",
            "ato\n",
            "soft <class 'tuple'> torch.Size([1, 1, 16, 32784])\n",
            "koeta\n",
            "9\n",
            "after f\n",
            "w torch.Size([1, 1, 16, 32784]) [torch.Size([1, 1, 3, 10, 131081]), torch.Size([1, 1, 3, 14, 65550]), torch.Size([1, 1, 3, 16, 32784])]\n",
            "ato\n",
            "soft <class 'tuple'> torch.Size([1, 1, 16, 32784])\n",
            "koeta\n",
            "10\n",
            "after f\n",
            "w torch.Size([1, 1, 16, 32784]) [torch.Size([1, 1, 3, 10, 131081]), torch.Size([1, 1, 3, 14, 65550]), torch.Size([1, 1, 3, 16, 32784])]\n",
            "ato\n",
            "soft <class 'tuple'> torch.Size([1, 1, 16, 32784])\n",
            "koeta\n",
            "11\n",
            "after f\n",
            "w torch.Size([1, 1, 16, 32784]) [torch.Size([1, 1, 3, 10, 131081]), torch.Size([1, 1, 3, 14, 65550]), torch.Size([1, 1, 3, 16, 32784])]\n",
            "ato\n",
            "soft <class 'tuple'> torch.Size([1, 1, 16, 32784])\n",
            "koeta\n",
            "12\n",
            "after f\n",
            "w torch.Size([1, 1, 16, 32784]) [torch.Size([1, 1, 3, 10, 131081]), torch.Size([1, 1, 3, 14, 65550]), torch.Size([1, 1, 3, 16, 32784])]\n",
            "ato\n",
            "soft <class 'tuple'> torch.Size([1, 1, 16, 32784])\n",
            "koeta\n",
            "13\n",
            "after f\n",
            "w torch.Size([1, 1, 16, 32784]) [torch.Size([1, 1, 3, 10, 131081]), torch.Size([1, 1, 3, 14, 65550]), torch.Size([1, 1, 3, 16, 32784])]\n",
            "ato\n",
            "soft <class 'tuple'> torch.Size([1, 1, 16, 32784])\n",
            "koeta\n",
            "14\n",
            "after f\n",
            "w torch.Size([1, 1, 16, 32784]) [torch.Size([1, 1, 3, 10, 131081]), torch.Size([1, 1, 3, 14, 65550]), torch.Size([1, 1, 3, 16, 32784])]\n",
            "ato\n",
            "soft <class 'tuple'> torch.Size([1, 1, 16, 32784])\n",
            "koeta\n",
            "15\n",
            "after f\n",
            "w torch.Size([1, 1, 16, 32784]) [torch.Size([1, 1, 3, 10, 131081]), torch.Size([1, 1, 3, 14, 65550]), torch.Size([1, 1, 3, 16, 32784])]\n",
            "ato\n",
            "soft <class 'tuple'> torch.Size([1, 1, 16, 32784])\n",
            "koeta\n",
            "16\n",
            "after f\n",
            "w torch.Size([1, 1, 16, 32784]) [torch.Size([1, 1, 3, 10, 131081]), torch.Size([1, 1, 3, 14, 65550]), torch.Size([1, 1, 3, 16, 32784])]\n",
            "ato\n",
            "soft <class 'tuple'> torch.Size([1, 1, 16, 32784])\n",
            "koeta\n",
            "17\n",
            "after f\n",
            "w torch.Size([1, 1, 16, 32784]) [torch.Size([1, 1, 3, 10, 131081]), torch.Size([1, 1, 3, 14, 65550]), torch.Size([1, 1, 3, 16, 32784])]\n",
            "ato\n",
            "soft <class 'tuple'> torch.Size([1, 1, 16, 32784])\n",
            "koeta\n",
            "18\n",
            "after f\n",
            "w torch.Size([1, 1, 16, 32784]) [torch.Size([1, 1, 3, 10, 131081]), torch.Size([1, 1, 3, 14, 65550]), torch.Size([1, 1, 3, 16, 32784])]\n",
            "ato\n",
            "soft <class 'tuple'> torch.Size([1, 1, 16, 32784])\n",
            "koeta\n",
            "19\n",
            "after f\n",
            "w torch.Size([1, 1, 16, 32784]) [torch.Size([1, 1, 3, 10, 131081]), torch.Size([1, 1, 3, 14, 65550]), torch.Size([1, 1, 3, 16, 32784])]\n",
            "ato\n",
            "soft <class 'tuple'> torch.Size([1, 1, 16, 32784])\n",
            "koeta\n",
            "20\n",
            "after f\n",
            "w torch.Size([1, 1, 16, 32784]) [torch.Size([1, 1, 3, 10, 131081]), torch.Size([1, 1, 3, 14, 65550]), torch.Size([1, 1, 3, 16, 32784])]\n",
            "ato\n",
            "soft <class 'tuple'> torch.Size([1, 1, 16, 32784])\n",
            "koeta\n",
            "21\n",
            "after f\n",
            "w torch.Size([1, 1, 16, 32784]) [torch.Size([1, 1, 3, 10, 131081]), torch.Size([1, 1, 3, 14, 65550]), torch.Size([1, 1, 3, 16, 32784])]\n",
            "ato\n",
            "soft <class 'tuple'> torch.Size([1, 1, 16, 32784])\n",
            "koeta\n",
            "22\n",
            "after f\n",
            "w torch.Size([1, 1, 16, 32784]) [torch.Size([1, 1, 3, 10, 131081]), torch.Size([1, 1, 3, 14, 65550]), torch.Size([1, 1, 3, 16, 32784])]\n",
            "ato\n",
            "soft <class 'tuple'> torch.Size([1, 1, 16, 32784])\n",
            "koeta\n",
            "23\n",
            "after f\n",
            "w torch.Size([1, 1, 16, 32784]) [torch.Size([1, 1, 3, 10, 131081]), torch.Size([1, 1, 3, 14, 65550]), torch.Size([1, 1, 3, 16, 32784])]\n",
            "ato\n",
            "soft <class 'tuple'> torch.Size([1, 1, 16, 32784])\n",
            "koeta\n",
            "24\n",
            "after f\n",
            "w torch.Size([1, 1, 16, 32784]) [torch.Size([1, 1, 3, 10, 131081]), torch.Size([1, 1, 3, 14, 65550]), torch.Size([1, 1, 3, 16, 32784])]\n",
            "ato\n",
            "soft <class 'tuple'> torch.Size([1, 1, 16, 32784])\n",
            "koeta\n",
            "25\n",
            "after f\n",
            "w torch.Size([1, 1, 16, 32784]) [torch.Size([1, 1, 3, 10, 131081]), torch.Size([1, 1, 3, 14, 65550]), torch.Size([1, 1, 3, 16, 32784])]\n",
            "ato\n",
            "soft <class 'tuple'> torch.Size([1, 1, 16, 32784])\n",
            "koeta\n",
            "26\n",
            "after f\n",
            "w torch.Size([1, 1, 16, 32784]) [torch.Size([1, 1, 3, 10, 131081]), torch.Size([1, 1, 3, 14, 65550]), torch.Size([1, 1, 3, 16, 32784])]\n",
            "ato\n",
            "soft <class 'tuple'> torch.Size([1, 1, 16, 32784])\n",
            "koeta\n",
            "27\n",
            "after f\n",
            "w torch.Size([1, 1, 16, 32784]) [torch.Size([1, 1, 3, 10, 131081]), torch.Size([1, 1, 3, 14, 65550]), torch.Size([1, 1, 3, 16, 32784])]\n",
            "ato\n",
            "soft <class 'tuple'> torch.Size([1, 1, 16, 32784])\n",
            "koeta\n",
            "28\n",
            "after f\n",
            "w torch.Size([1, 1, 16, 32784]) [torch.Size([1, 1, 3, 10, 131081]), torch.Size([1, 1, 3, 14, 65550]), torch.Size([1, 1, 3, 16, 32784])]\n",
            "ato\n",
            "soft <class 'tuple'> torch.Size([1, 1, 16, 32784])\n",
            "koeta\n",
            "29\n",
            "after f\n",
            "w torch.Size([1, 1, 16, 32784]) [torch.Size([1, 1, 3, 10, 131081]), torch.Size([1, 1, 3, 14, 65550]), torch.Size([1, 1, 3, 16, 32784])]\n",
            "ato\n",
            "soft <class 'tuple'> torch.Size([1, 1, 16, 32784])\n",
            "koeta\n"
          ],
          "name": "stdout"
        },
        {
          "output_type": "display_data",
          "data": {
            "image/png": "[encoded data removed]",
            "text/plain": [
              "<Figure size 432x288 with 1 Axes>"
            ]
          },
          "metadata": {
            "tags": []
          }
        }
      ]
    },
    {
      "cell_type": "code",
      "metadata": {
        "id": "ybJ4yyU9tfWX",
        "colab_type": "code",
        "outputId": "85131353-0d6a-466d-8bcd-c603430f3dcc",
        "colab": {
          "base_uri": "https://localhost:8080/",
          "height": 468
        }
      },
      "source": [
        "j = 0\n",
        "print(\"xの結果\\n\",model_out[0][j])\n",
        "print(\"スパース解xをつかって求めた波形\\n\",tdct.idct(model_out[0][j]))\n",
        "print(\"元のフーリエ\\n\",tdct.dct(input_data[j]))\n",
        "check = tdct.idct(model_out[0][j])\n",
        "print(type(check))\n",
        "plt.subplot(4,1,1)\n",
        "plt.title(\"true\")\n",
        "#plt.plot(data.cpu(),true[j].cpu())\n",
        "plt.subplot(4,1,2)\n",
        "plt.title(\"noise\")\n",
        "#plt.plot(data.cpu(),y_add_noise[j].cpu().detach().numpy())\n",
        "plt.subplot(4,1,3)\n",
        "plt.title(\"reconst\")\n",
        "plt.plot(data.cpu(),check.cpu().detach().numpy())\n",
        "plt.subplot(4,1,4)\n",
        "plt.title(\"after x\")\n",
        "plt.plot(data.cpu(),model_out[0][j].cpu().detach().numpy())"
      ],
      "execution_count": 17,
      "outputs": [
        {
          "output_type": "stream",
          "text": [
            "xの結果\n",
            " tensor([-395.1656,  -60.1948,  104.8709,  ...,    0.0000,    0.0000,\n",
            "           0.0000], grad_fn=<SelectBackward>)\n",
            "スパース解xをつかって求めた波形\n",
            " tensor([-0.0005, -0.0006, -0.0007,  ...,  0.0004,  0.0003,  0.0003],\n",
            "       grad_fn=<ViewBackward>)\n",
            "元のフーリエ\n",
            " tensor([-3.9617e+02, -6.1195e+01,  1.0587e+02,  ...,  4.8587e-01,\n",
            "         2.0900e-01,  4.1924e-01])\n",
            "<class 'torch.Tensor'>\n"
          ],
          "name": "stdout"
        },
        {
          "output_type": "execute_result",
          "data": {
            "text/plain": [
              "[<matplotlib.lines.Line2D at 0x7fa5360c2978>]"
            ]
          },
          "metadata": {
            "tags": []
          },
          "execution_count": 17
        },
        {
          "output_type": "display_data",
          "data": {
            "image/png": "[encoded data removed]",
            "text/plain": [
              "<Figure size 432x288 with 4 Axes>"
            ]
          },
          "metadata": {
            "tags": []
          }
        }
      ]
    },
    {
      "cell_type": "code",
      "metadata": {
        "id": "bPPT2E-8uB-6",
        "colab_type": "code",
        "outputId": "fa945182-6047-4ff0-a72d-976eff1c077b",
        "colab": {
          "base_uri": "https://localhost:8080/",
          "height": 459
        }
      },
      "source": [
        "wt = DWTForward(J=3,wave='db10',mode='zero')\n",
        "iwt = DWTInverse(wave='db10', mode='zero')\n",
        "\n",
        "print(type(model_out[1]))\n",
        "print(type(model_out[1][0]),model_out[1][0].size())\n",
        "print(type(model_out[1][1]),[x.size() for x in model_out[1][1]])\n",
        "print(model_out[1][0][0][0][0])\n",
        "print(\"確認\",wt(input_data[j].reshape(1,1,1,-1))[0].size(),wt(input_data[j].reshape(1,1,1,-1))[0][0][0][0])\n",
        "#print(\"wの結果\",type(model_out[1]),model_out[1].size(),'\\n',model_out[1][j][0][0])\n",
        "print(\"スパース解wをつかって求めた波形\\n\",iwt(model_out[1])[j][0][0])\n",
        "\n",
        "\n",
        "check = iwt(model_out[1])\n",
        "print(type(check),check.size())\n",
        "plt.subplot(3,1,1)\n",
        "#plt.plot(data.cpu(),true[j].cpu())\n",
        "plt.subplot(3,1,2)\n",
        "#plt.plot(data.cpu(),y_add_noise[j].cpu().detach().numpy())\n",
        "plt.subplot(3,1,3)\n",
        "plt.plot(data.cpu(),check[j][0][0].cpu().detach().numpy())\n"
      ],
      "execution_count": 18,
      "outputs": [
        {
          "output_type": "stream",
          "text": [
            "<class 'tuple'>\n",
            "<class 'torch.Tensor'> torch.Size([1, 1, 16, 32784])\n",
            "<class 'list'> [torch.Size([1, 1, 3, 10, 131081]), torch.Size([1, 1, 3, 14, 65550]), torch.Size([1, 1, 3, 16, 32784])]\n",
            "tensor([0., 0., 0.,  ..., 0., 0., 0.], grad_fn=<SelectBackward>)\n",
            "確認 torch.Size([1, 1, 16, 32784]) tensor([ 1.6630e-29,  2.5733e-27, -3.2738e-25,  ...,  0.0000e+00,\n",
            "         0.0000e+00,  0.0000e+00])\n",
            "スパース解wをつかって求めた波形\n",
            " tensor([0., 0., 0.,  ..., 0., 0., 0.], grad_fn=<SelectBackward>)\n",
            "<class 'torch.Tensor'> torch.Size([1, 1, 2, 262144])\n"
          ],
          "name": "stdout"
        },
        {
          "output_type": "execute_result",
          "data": {
            "text/plain": [
              "[<matplotlib.lines.Line2D at 0x7fa536018cf8>]"
            ]
          },
          "metadata": {
            "tags": []
          },
          "execution_count": 18
        },
        {
          "output_type": "display_data",
          "data": {
            "image/png": "[encoded data removed]",
            "text/plain": [
              "<Figure size 432x288 with 3 Axes>"
            ]
          },
          "metadata": {
            "tags": []
          }
        }
      ]
    },
    {
      "cell_type": "code",
      "metadata": {
        "id": "Ggl3qZQIyxV7",
        "colab_type": "code",
        "colab": {}
      },
      "source": [
        "def w_softshrink(self,z,th):\n",
        "    return [self.prox(x,th) for x in z]\n"
      ],
      "execution_count": 0,
      "outputs": []
    },
    {
      "cell_type": "code",
      "metadata": {
        "id": "VQp3NXVuaLTV",
        "colab_type": "code",
        "outputId": "36e115b3-5fd6-49ad-c508-14de420ac2fe",
        "colab": {
          "base_uri": "https://localhost:8080/",
          "height": 54
        }
      },
      "source": [
        "\"\"\"\n",
        "import torch\n",
        "import math\n",
        "import matplotlib.pyplot as plt\n",
        "#import torch_dct as tdct\n",
        "torch.set_default_tensor_type(torch.FloatTensor)\n",
        "\n",
        "#b * cos(2 * pi * (1/x)) #(1/x) = f\n",
        "a = torch.arange(0, 10, 0.0005)\n",
        "b = torch.rand(20)\n",
        "x = torch.arange(0.2,20,0.2)\n",
        "y = 0\n",
        "for i in range(0,9):\n",
        "    y = y + b[i] * torch.cos(2 * math.pi * (1. /x[i]) * a) \n",
        "y[600] = y[600] + 2\n",
        "y_add_noise = y + torch.rand(20000)\n",
        "print(y)\n",
        "print(y.size())\n",
        "plt.subplot(4,1,1)\n",
        "plt.plot(a,y)\n",
        "plt.subplot(4,1,2)\n",
        "plt.plot(a,y_add_noise)\n",
        "dcty = tdct.dct(y_add_noise)\n",
        "idcty = tdct.idct(dcty)\n",
        "idcty = tdct.idct(softm(dcty,0))\n",
        "plt.plot(a,idcty)\n",
        "yfft = torch.rfft(y_add_noise,1)\n",
        "print(yfft)\n",
        "yfft = f_softshrink(yfft,100)\n",
        "print(yfft)\n",
        "yifft = torch.irfft(yfft,1,signal_sizes = y.shape)\n",
        "print(yifft)\n",
        "plt.subplot(4,1,3)\n",
        "plt.plot(a,yifft)\n",
        "plt.subplot(4,1,4)\n",
        "#plt.plot(a,dcty)\n",
        "plt.plot(torch.arange(19940),dcty[60:])\n",
        "\"\"\""
      ],
      "execution_count": 20,
      "outputs": [
        {
          "output_type": "execute_result",
          "data": {
            "text/plain": [
              "'\\nimport torch\\nimport math\\nimport matplotlib.pyplot as plt\\n#import torch_dct as tdct\\ntorch.set_default_tensor_type(torch.FloatTensor)\\n\\n#b * cos(2 * pi * (1/x)) #(1/x) = f\\na = torch.arange(0, 10, 0.0005)\\nb = torch.rand(20)\\nx = torch.arange(0.2,20,0.2)\\ny = 0\\nfor i in range(0,9):\\n    y = y + b[i] * torch.cos(2 * math.pi * (1. /x[i]) * a) \\ny[600] = y[600] + 2\\ny_add_noise = y + torch.rand(20000)\\nprint(y)\\nprint(y.size())\\nplt.subplot(4,1,1)\\nplt.plot(a,y)\\nplt.subplot(4,1,2)\\nplt.plot(a,y_add_noise)\\ndcty = tdct.dct(y_add_noise)\\nidcty = tdct.idct(dcty)\\nidcty = tdct.idct(softm(dcty,0))\\nplt.plot(a,idcty)\\nyfft = torch.rfft(y_add_noise,1)\\nprint(yfft)\\nyfft = f_softshrink(yfft,100)\\nprint(yfft)\\nyifft = torch.irfft(yfft,1,signal_sizes = y.shape)\\nprint(yifft)\\nplt.subplot(4,1,3)\\nplt.plot(a,yifft)\\nplt.subplot(4,1,4)\\n#plt.plot(a,dcty)\\nplt.plot(torch.arange(19940),dcty[60:])\\n'"
            ]
          },
          "metadata": {
            "tags": []
          },
          "execution_count": 20
        }
      ]
    },
    {
      "cell_type": "code",
      "metadata": {
        "colab_type": "code",
        "id": "1PTSJ2ih7BZV",
        "outputId": "5c71a4e2-da62-418a-c03c-ea0c2341f573",
        "colab": {
          "base_uri": "https://localhost:8080/",
          "height": 54
        }
      },
      "source": [
        "\"\"\"\n",
        "import torch\n",
        "import math\n",
        "import matplotlib.pyplot as plt\n",
        "from pytorch_wavelets import DWTForward, DWTInverse\n",
        "import torch_dct as tdct\n",
        "\n",
        "maxnum = 10\n",
        "#b * cos(2 * pi * (1/x)) #(1/x) = f\n",
        "a = torch.arange(0, 10, 0.0005)\n",
        "b = torch.rand(maxnum)\n",
        "x = torch.arange(0.2,maxnum,0.2)\n",
        "y = 0\n",
        "for i in range(0,maxnum):\n",
        "    y = y + b[i] * torch.cos(2 * math.pi * (1. /x[i]) * a) \n",
        "y[600] = y[600] + 5\n",
        "y_add_noise = y + torch.rand(20000)\n",
        "print(y)\n",
        "print(y.size())\n",
        "plt.subplot(5,1,1)\n",
        "plt.plot(a,y)\n",
        "plt.subplot(5,1,2)\n",
        "plt.plot(a,y_add_noise)\n",
        "\n",
        "wty = DWTForward(J=3, wave=\"db10\", mode='zero')\n",
        "iwty = DWTInverse(wave=\"db10\", mode='zero')\n",
        "Yl, Yh = wty(y_add_noise.view(1,1,1,y.size()[0]))\n",
        "Yh = [softm(x,100) for x in Yh]\n",
        "iwtyy = iwty((Yl,Yh))\n",
        "print(iwtyy)\n",
        "plt.subplot(5,1,3)\n",
        "plt.plot(a,iwtyy[0][0][0])\n",
        "\n",
        "dcty = tdct.dct(y_add_noise)\n",
        "dcty = softm(dcty,200)\n",
        "idcty = tdct.idct(dcty)\n",
        "plt.subplot(5,1,4)\n",
        "plt.plot(a,idcty)\n",
        "print(idcty)\n",
        "\n",
        "yfft = torch.rfft(y_add_noise,1)\n",
        "yfft = f_softshrink(yfft,200)\n",
        "yifft = torch.irfft(yfft,1,signal_sizes = y.shape)\n",
        "print(yifft)\n",
        "plt.subplot(5,1,5)\n",
        "plt.plot(a,yifft)\n",
        "\n",
        "print(torch.abs((y - idcty).sum()))\n",
        "print(torch.abs((y - yifft).sum()))\n",
        "\"\"\""
      ],
      "execution_count": 21,
      "outputs": [
        {
          "output_type": "execute_result",
          "data": {
            "text/plain": [
              "'\\nimport torch\\nimport math\\nimport matplotlib.pyplot as plt\\nfrom pytorch_wavelets import DWTForward, DWTInverse\\nimport torch_dct as tdct\\n\\nmaxnum = 10\\n#b * cos(2 * pi * (1/x)) #(1/x) = f\\na = torch.arange(0, 10, 0.0005)\\nb = torch.rand(maxnum)\\nx = torch.arange(0.2,maxnum,0.2)\\ny = 0\\nfor i in range(0,maxnum):\\n    y = y + b[i] * torch.cos(2 * math.pi * (1. /x[i]) * a) \\ny[600] = y[600] + 5\\ny_add_noise = y + torch.rand(20000)\\nprint(y)\\nprint(y.size())\\nplt.subplot(5,1,1)\\nplt.plot(a,y)\\nplt.subplot(5,1,2)\\nplt.plot(a,y_add_noise)\\n\\nwty = DWTForward(J=3, wave=\"db10\", mode=\\'zero\\')\\niwty = DWTInverse(wave=\"db10\", mode=\\'zero\\')\\nYl, Yh = wty(y_add_noise.view(1,1,1,y.size()[0]))\\nYh = [softm(x,100) for x in Yh]\\niwtyy = iwty((Yl,Yh))\\nprint(iwtyy)\\nplt.subplot(5,1,3)\\nplt.plot(a,iwtyy[0][0][0])\\n\\ndcty = tdct.dct(y_add_noise)\\ndcty = softm(dcty,200)\\nidcty = tdct.idct(dcty)\\nplt.subplot(5,1,4)\\nplt.plot(a,idcty)\\nprint(idcty)\\n\\nyfft = torch.rfft(y_add_noise,1)\\nyfft = f_softshrink(yfft,200)\\nyifft = torch.irfft(yfft,1,signal_sizes = y.shape)\\nprint(yifft)\\nplt.subplot(5,1,5)\\nplt.plot(a,yifft)\\n\\nprint(torch.abs((y - idcty).sum()))\\nprint(torch.abs((y - yifft).sum()))\\n'"
            ]
          },
          "metadata": {
            "tags": []
          },
          "execution_count": 21
        }
      ]
    },
    {
      "cell_type": "code",
      "metadata": {
        "id": "9i0SpAxxxCB3",
        "colab_type": "code",
        "outputId": "0629e002-8d3a-4398-9910-0df2bfcb828e",
        "colab": {
          "base_uri": "https://localhost:8080/",
          "height": 54
        }
      },
      "source": [
        "\"\"\"\n",
        "import numpy as np\n",
        "import math\n",
        "import matplotlib.pyplot as plt\n",
        "from scipy import fftpack\n",
        "\n",
        "#b * cos(2 * pi * (1/x)) #(1/x) = f\n",
        "a = np.arange(0, 10, 0.0005)\n",
        "b = np.random.rand(9)\n",
        "x = np.arange(0.02,2,0.05)\n",
        "y = np.zeros(len(a))\n",
        "for i in range(0,9):\n",
        "    y = y + b[i] * np.cos(2 * math.pi * (1. /x[i]) * a) \n",
        "print(y)\n",
        "y = y #+ np.random.rand(len(y)) * 3\n",
        "print(len(y))\n",
        "print(x.size)\n",
        "plt.subplot(2,1,1)\n",
        "plt.plot(a,y)\n",
        "\n",
        "ydct = fftpack.dct(y,norm='ortho')\n",
        "yidct = fftpack.idct(ydct,norm='ortho')\n",
        "plt.subplot(2,1,2)\n",
        "plt.plot(a,yidct)\n",
        "print(y)\n",
        "print(ydct)\n",
        "print(yidct)\n",
        "print(y - yidct)\n",
        "print((np.fabs(y - yidct)).sum())\n",
        "assert (y - yidct).sum() < 1e-10\n",
        "\"\"\""
      ],
      "execution_count": 22,
      "outputs": [
        {
          "output_type": "execute_result",
          "data": {
            "text/plain": [
              "\"\\nimport numpy as np\\nimport math\\nimport matplotlib.pyplot as plt\\nfrom scipy import fftpack\\n\\n#b * cos(2 * pi * (1/x)) #(1/x) = f\\na = np.arange(0, 10, 0.0005)\\nb = np.random.rand(9)\\nx = np.arange(0.02,2,0.05)\\ny = np.zeros(len(a))\\nfor i in range(0,9):\\n    y = y + b[i] * np.cos(2 * math.pi * (1. /x[i]) * a) \\nprint(y)\\ny = y #+ np.random.rand(len(y)) * 3\\nprint(len(y))\\nprint(x.size)\\nplt.subplot(2,1,1)\\nplt.plot(a,y)\\n\\nydct = fftpack.dct(y,norm='ortho')\\nyidct = fftpack.idct(ydct,norm='ortho')\\nplt.subplot(2,1,2)\\nplt.plot(a,yidct)\\nprint(y)\\nprint(ydct)\\nprint(yidct)\\nprint(y - yidct)\\nprint((np.fabs(y - yidct)).sum())\\nassert (y - yidct).sum() < 1e-10\\n\""
            ]
          },
          "metadata": {
            "tags": []
          },
          "execution_count": 22
        }
      ]
    }
  ]
}